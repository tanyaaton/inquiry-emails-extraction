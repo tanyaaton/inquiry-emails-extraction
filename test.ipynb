{
 "cells": [
  {
   "cell_type": "code",
   "execution_count": 27,
   "metadata": {},
   "outputs": [],
   "source": [
    "import logging\n",
    "import datetime\n",
    "import os\n",
    "import json\n",
    "from dotenv import load_dotenv\n",
    "\n",
    "#for UI\n",
    "import streamlit as st\n",
    "\n",
    "# for function\n",
    "from function import (connect_openai_llm, generate_answer, display_hits_dataframe)\n",
    "# from prompt import generate_pdf_prompt"
   ]
  },
  {
   "cell_type": "code",
   "execution_count": 28,
   "metadata": {},
   "outputs": [],
   "source": [
    "load_dotenv()\n",
    "OPENAI_API_KEY=  os.getenv(\"OPENAI_API_KEY\")\n"
   ]
  },
  {
   "cell_type": "code",
   "execution_count": 184,
   "metadata": {},
   "outputs": [],
   "source": [
    "# json\n",
    "# instruction = \"\"\"You are a helpful, respectful assistant. You will receive an INSURANCE REQUEST EMAIL in the speficied subject and its content. From the email, please extract the following entity in to jason format provided below\n",
    "# [{\"Yacht Model\": \"\"},{\"Yacht Length\": \"\"},{\"Year of Manufacture\":\"\"}{\"Current Value/Purchase Price\":\"\"},{\"Current Location\":\"\"},{\"Intended Cruising Area\":\"\"},{\"Owner's Name\":\"\"},{\"Owner's Contact Information\":\"\"},{\"Owner's Boating Experience\":\"\"},{\"Previous Insurance Claims\":\"\"},{\"Additional Equipment\":\"\"},{\"Current Insurance Coverage\":\"\"},{\"Other\":\"\"}]\"\"\"\n",
    "\n",
    "# pandas dataframe\n",
    "instruction_dataframe = f\"\"\"You are a helpful, respectful assistant. You will receive an INSURANCE REQUEST EMAIL in the specified subject and its content. From the email, please extract the following entities into a list with the order specified below:\n",
    "[\"Yacht Model\", \"Yacht Length\", \"Year of Manufacture\", \"Current Value/Purchase Price\", \"Current Location\", \"Intended Cruising Area\", \"Owner's Name\", \"Owner's Contact Information\", \"Owner's Boating Experience\", \"Previous Insurance Claims\", \"Additional Equipment\", \"Current Insurance Coverage\", \"Other\"]\n",
    "If the information is not provide for the specific entities, that element of the list should be None. Return only in the string of list format that can be directly transfer into python list.\n",
    "\"\"\"\n",
    "\n",
    "# python dictionary\n",
    "instruction_dic = \"\"\"You are a helpful, respectful assistant. You will receive an INSURANCE REQUEST EMAIL in the speficied subject and its content. From the email, please extract the following entity in to python dictionary format provided below\n",
    "{\"Yacht Model\": \"\",\"Yacht Length\": \"\",\"Year of Manufacture\": \"\",\"Current Value/Purchase Price\": \"\",\"Current Location\": \"\",\"Intended Cruising Area\": \"\",\"Owner's Name\": \"\",\"Owner's Contact Information\": \"\",\"Owner's Boating Experience\": \"\",\"Previous Insurance Claims\": \",\"Additional Equipment\": \"\",\"Current Insurance Coverage\": \"\",\"Other\": \"\"}\n",
    "If the information is not provide for the specific entities, that value of the key should be None\n",
    "\"\"\""
   ]
  },
  {
   "cell_type": "code",
   "execution_count": 177,
   "metadata": {},
   "outputs": [],
   "source": [
    "def generate_prompt(email):\n",
    "    messages = {\n",
    "        \"messages\": [\n",
    "            {\n",
    "            \"content\": instruction_dataframe,\n",
    "            \"role\": \"system\"\n",
    "            },\n",
    "            {\n",
    "            \"content\": f\"\"\"INSURANCE REQUEST EMAIL: {email}\"\"\",\n",
    "            \"role\": \"user\"\n",
    "            },\n",
    "            {\n",
    "            \"content\": \"\",\n",
    "            \"role\": \"assistant\"\n",
    "            },\n",
    "        ]\n",
    "    }\n",
    "    return messages[\"messages\"]"
   ]
  },
  {
   "cell_type": "code",
   "execution_count": 110,
   "metadata": {},
   "outputs": [],
   "source": [
    "customer_email= \"\"\"Subject: Insurance Quote for My New Sunseeker\n",
    "\n",
    "To whom it may concern,\n",
    "\n",
    "I recently purchased a Sunseeker Manhattan 68 yacht and I'm looking for comprehensive insurance coverage. The yacht is 68 feet long and was built in 2022. It's currently docked at Marina del Rey in California.\n",
    "\n",
    "Some additional details:\n",
    "\n",
    "- Purchase price: $3,200,000\n",
    "- Max speed: 32 knots\n",
    "- Sleeping capacity: 8 people\n",
    "- Planning to use it mainly for coastal cruising, with occasional trips to Mexico\n",
    "\n",
    "I have 10 years of boating experience, including 5 years with vessels over 50 feet. No accidents or insurance claims in the past.\n",
    "\n",
    "Could you please provide me with a quote for full coverage? I'm particularly interested in options for liability coverage.\n",
    "\n",
    "Thank you,\n",
    "John Smith\n",
    "Phone: (310) 555-1234\"\"\""
   ]
  },
  {
   "cell_type": "code",
   "execution_count": 111,
   "metadata": {},
   "outputs": [],
   "source": [
    "model_id_llm='gpt-4o'\n",
    "model_id_emb=\"text-embedding-3-large\"\n",
    "model_llm = connect_openai_llm()"
   ]
  },
  {
   "cell_type": "code",
   "execution_count": 118,
   "metadata": {},
   "outputs": [
    {
     "name": "stdout",
     "output_type": "stream",
     "text": [
      "[{'content': 'You are a helpful, respectful assistant. You will receive an INSURANCE REQUEST EMAIL in the speficied subject and its content. From the email, please extract the following entity in to python dictionary format provided below\\n{\"Yacht Model\": \"\",\"Yacht Length\": \"\",\"Year of Manufacture\": \"\",\"Current Value/Purchase Price\": \"\",\"Current Location\": \"\",\"Intended Cruising Area\": \"\",\"Owner\\'s Name\": \"\",\"Owner\\'s Contact Information\": \"\",\"Owner\\'s Boating Experience\": \"\",\"Previous Insurance Claims\": \",\"Additional Equipment\": \"\",\"Current Insurance Coverage\": \"\",\"Other\": \"\"}\\nIf the information is not provide for the specific entities, that value of the key should be None\\n', 'role': 'system'}, {'content': \"INSURANCE REQUEST EMAIL: Subject: Insurance Quote for My New Sunseeker\\n\\nTo whom it may concern,\\n\\nI recently purchased a Sunseeker Manhattan 68 yacht and I'm looking for comprehensive insurance coverage. The yacht is 68 feet long and was built in 2022. It's currently docked at Marina del Rey in California.\\n\\nSome additional details:\\n\\n- Purchase price: $3,200,000\\n- Max speed: 32 knots\\n- Sleeping capacity: 8 people\\n- Planning to use it mainly for coastal cruising, with occasional trips to Mexico\\n\\nI have 10 years of boating experience, including 5 years with vessels over 50 feet. No accidents or insurance claims in the past.\\n\\nCould you please provide me with a quote for full coverage? I'm particularly interested in options for liability coverage.\\n\\nThank you,\\nJohn Smith\\nPhone: (310) 555-1234\", 'role': 'user'}, {'content': '', 'role': 'assistant'}]\n",
      "```python\n",
      "{\n",
      "  \"Yacht Model\": \"Sunseeker Manhattan 68\",\n",
      "  \"Yacht Length\": \"68 feet\",\n",
      "  \"Year of Manufacture\": \"2022\",\n",
      "  \"Current Value/Purchase Price\": \"$3,200,000\",\n",
      "  \"Current Location\": \"Marina del Rey, California\",\n",
      "  \"Intended Cruising Area\": \"Coastal cruising, with occasional trips to Mexico\",\n",
      "  \"Owner's Name\": \"John Smith\",\n",
      "  \"Owner's Contact Information\": \"(310) 555-1234\",\n",
      "  \"Owner's Boating Experience\": \"10 years, including 5 years with vessels over 50 feet\",\n",
      "  \"Previous Insurance Claims\": \"No accidents or insurance claims in the past\",\n",
      "  \"Additional Equipment\": None,\n",
      "  \"Current Insurance Coverage\": None,\n",
      "  \"Other\": \"Interested in options for liability coverage\"\n",
      "}\n",
      "```\n"
     ]
    },
    {
     "data": {
      "text/plain": [
       "'```python\\n{\\n  \"Yacht Model\": \"Sunseeker Manhattan 68\",\\n  \"Yacht Length\": \"68 feet\",\\n  \"Year of Manufacture\": \"2022\",\\n  \"Current Value/Purchase Price\": \"$3,200,000\",\\n  \"Current Location\": \"Marina del Rey, California\",\\n  \"Intended Cruising Area\": \"Coastal cruising, with occasional trips to Mexico\",\\n  \"Owner\\'s Name\": \"John Smith\",\\n  \"Owner\\'s Contact Information\": \"(310) 555-1234\",\\n  \"Owner\\'s Boating Experience\": \"10 years, including 5 years with vessels over 50 feet\",\\n  \"Previous Insurance Claims\": \"No accidents or insurance claims in the past\",\\n  \"Additional Equipment\": None,\\n  \"Current Insurance Coverage\": None,\\n  \"Other\": \"Interested in options for liability coverage\"\\n}\\n```'"
      ]
     },
     "execution_count": 118,
     "metadata": {},
     "output_type": "execute_result"
    }
   ],
   "source": [
    "prompt = generate_prompt(customer_email)\n",
    "print(prompt)\n",
    "response = generate_answer(model_llm,prompt)\n",
    "print(response)\n",
    "st.text_area(label=\"Model Response\", value=response, height=300)\n",
    "# display_hits_dataframe(hits)"
   ]
  },
  {
   "cell_type": "code",
   "execution_count": 39,
   "metadata": {},
   "outputs": [],
   "source": [
    "response_dic = response"
   ]
  },
  {
   "cell_type": "code",
   "execution_count": 50,
   "metadata": {},
   "outputs": [
    {
     "data": {
      "text/plain": [
       "'[  {\"Yacht Model\": \"Sunseeker Manhattan 68\"},  {\"Yacht Length\": \"68 feet\"},  {\"Year of Manufacture\":\"2022\"},  {\"Current Value/Purchase Price\":\"$3,200,000\"},  {\"Current Location\":\"Marina del Rey, California\"},  {\"Intended Cruising Area\":\"Coastal cruising, occasional trips to Mexico\"},  {\"Owner\\'s Name\":\"John Smith\"},  {\"Owner\\'s Contact Information\":\"Phone: (310) 555-1234\"},  {\"Owner\\'s Boating Experience\":\"10 years of boating experience, including 5 years with vessels over 50 feet\"},  {\"Previous Insurance Claims\":\"No accidents or insurance claims in the past\"},  {\"Additional Equipment\":\"\"},  {\"Current Insurance Coverage\":\"\"},  {\"Other\":\"Max speed: 32 knots, Sleeping capacity: 8 people\"}]'"
      ]
     },
     "execution_count": 50,
     "metadata": {},
     "output_type": "execute_result"
    }
   ],
   "source": [
    "response_json = response.replace('\\n', '').replace('json', '').replace('```', '').replace('', '')\n",
    "response_json"
   ]
  },
  {
   "cell_type": "code",
   "execution_count": 52,
   "metadata": {},
   "outputs": [
    {
     "data": {
      "text/plain": [
       "[{'Yacht Model': 'Sunseeker Manhattan 68'},\n",
       " {'Yacht Length': '68 feet'},\n",
       " {'Year of Manufacture': '2022'},\n",
       " {'Current Value/Purchase Price': '$3,200,000'},\n",
       " {'Current Location': 'Marina del Rey, California'},\n",
       " {'Intended Cruising Area': 'Coastal cruising, occasional trips to Mexico'},\n",
       " {\"Owner's Name\": 'John Smith'},\n",
       " {\"Owner's Contact Information\": 'Phone: (310) 555-1234'},\n",
       " {\"Owner's Boating Experience\": '10 years of boating experience, including 5 years with vessels over 50 feet'},\n",
       " {'Previous Insurance Claims': 'No accidents or insurance claims in the past'},\n",
       " {'Additional Equipment': ''},\n",
       " {'Current Insurance Coverage': ''},\n",
       " {'Other': 'Max speed: 32 knots, Sleeping capacity: 8 people'}]"
      ]
     },
     "execution_count": 52,
     "metadata": {},
     "output_type": "execute_result"
    }
   ],
   "source": [
    "data = json.loads(response_json)\n",
    "data"
   ]
  },
  {
   "cell_type": "markdown",
   "metadata": {},
   "source": [
    "dataframe pd"
   ]
  },
  {
   "cell_type": "code",
   "execution_count": 56,
   "metadata": {},
   "outputs": [],
   "source": [
    "import pandas as pd"
   ]
  },
  {
   "cell_type": "code",
   "execution_count": 64,
   "metadata": {},
   "outputs": [
    {
     "data": {
      "text/html": [
       "<div>\n",
       "<style scoped>\n",
       "    .dataframe tbody tr th:only-of-type {\n",
       "        vertical-align: middle;\n",
       "    }\n",
       "\n",
       "    .dataframe tbody tr th {\n",
       "        vertical-align: top;\n",
       "    }\n",
       "\n",
       "    .dataframe thead th {\n",
       "        text-align: right;\n",
       "    }\n",
       "</style>\n",
       "<table border=\"1\" class=\"dataframe\">\n",
       "  <thead>\n",
       "    <tr style=\"text-align: right;\">\n",
       "      <th></th>\n",
       "    </tr>\n",
       "  </thead>\n",
       "  <tbody>\n",
       "    <tr>\n",
       "      <th>Yacht Model</th>\n",
       "    </tr>\n",
       "    <tr>\n",
       "      <th>Yacht Length</th>\n",
       "    </tr>\n",
       "    <tr>\n",
       "      <th>Year of Manufacture</th>\n",
       "    </tr>\n",
       "    <tr>\n",
       "      <th>Current Value/Purchase Price</th>\n",
       "    </tr>\n",
       "    <tr>\n",
       "      <th>Current Location</th>\n",
       "    </tr>\n",
       "    <tr>\n",
       "      <th>Intended Cruising Area</th>\n",
       "    </tr>\n",
       "    <tr>\n",
       "      <th>Owner's Name</th>\n",
       "    </tr>\n",
       "    <tr>\n",
       "      <th>Owner's Contact Information</th>\n",
       "    </tr>\n",
       "    <tr>\n",
       "      <th>Owner's Boating Experience</th>\n",
       "    </tr>\n",
       "    <tr>\n",
       "      <th>Previous Insurance Claims</th>\n",
       "    </tr>\n",
       "    <tr>\n",
       "      <th>Additional Equipment</th>\n",
       "    </tr>\n",
       "    <tr>\n",
       "      <th>Current Insurance Coverage</th>\n",
       "    </tr>\n",
       "    <tr>\n",
       "      <th>Other</th>\n",
       "    </tr>\n",
       "  </tbody>\n",
       "</table>\n",
       "</div>"
      ],
      "text/plain": [
       "Empty DataFrame\n",
       "Columns: []\n",
       "Index: [Yacht Model, Yacht Length, Year of Manufacture, Current Value/Purchase Price, Current Location, Intended Cruising Area, Owner's Name, Owner's Contact Information, Owner's Boating Experience, Previous Insurance Claims, Additional Equipment, Current Insurance Coverage, Other]"
      ]
     },
     "execution_count": 64,
     "metadata": {},
     "output_type": "execute_result"
    }
   ],
   "source": [
    "col = [\"Yacht Model\", \"Yacht Length\", \"Year of Manufacture\", \"Current Value/Purchase Price\", \"Current Location\", \"Intended Cruising Area\", \"Owner's Name\", \"Owner's Contact Information\", \"Owner's Boating Experience\", \"Previous Insurance Claims\", \"Additional Equipment\", \"Current Insurance Coverage\", \"Other\"]\n",
    "df = pd.DataFrame(index=col)\n",
    "df"
   ]
  },
  {
   "cell_type": "code",
   "execution_count": 63,
   "metadata": {},
   "outputs": [],
   "source": [
    "#str > list > Series > into df\n",
    "import ast\n",
    "response_list = ast.literal_eval(response)"
   ]
  },
  {
   "cell_type": "code",
   "execution_count": 65,
   "metadata": {},
   "outputs": [],
   "source": [
    "df['new']=response_list"
   ]
  },
  {
   "cell_type": "code",
   "execution_count": 67,
   "metadata": {},
   "outputs": [
    {
     "data": {
      "text/html": [
       "<div>\n",
       "<style scoped>\n",
       "    .dataframe tbody tr th:only-of-type {\n",
       "        vertical-align: middle;\n",
       "    }\n",
       "\n",
       "    .dataframe tbody tr th {\n",
       "        vertical-align: top;\n",
       "    }\n",
       "\n",
       "    .dataframe thead th {\n",
       "        text-align: right;\n",
       "    }\n",
       "</style>\n",
       "<table border=\"1\" class=\"dataframe\">\n",
       "  <thead>\n",
       "    <tr style=\"text-align: right;\">\n",
       "      <th></th>\n",
       "      <th>new</th>\n",
       "    </tr>\n",
       "  </thead>\n",
       "  <tbody>\n",
       "    <tr>\n",
       "      <th>Yacht Model</th>\n",
       "      <td>Sunseeker Manhattan 68</td>\n",
       "    </tr>\n",
       "    <tr>\n",
       "      <th>Yacht Length</th>\n",
       "      <td>68 feet</td>\n",
       "    </tr>\n",
       "    <tr>\n",
       "      <th>Year of Manufacture</th>\n",
       "      <td>2022</td>\n",
       "    </tr>\n",
       "    <tr>\n",
       "      <th>Current Value/Purchase Price</th>\n",
       "      <td>$3,200,000</td>\n",
       "    </tr>\n",
       "    <tr>\n",
       "      <th>Current Location</th>\n",
       "      <td>Marina del Rey, California</td>\n",
       "    </tr>\n",
       "    <tr>\n",
       "      <th>Intended Cruising Area</th>\n",
       "      <td>Coastal cruising, with occasional trips to Mexico</td>\n",
       "    </tr>\n",
       "    <tr>\n",
       "      <th>Owner's Name</th>\n",
       "      <td>John Smith</td>\n",
       "    </tr>\n",
       "    <tr>\n",
       "      <th>Owner's Contact Information</th>\n",
       "      <td>(310) 555-1234</td>\n",
       "    </tr>\n",
       "    <tr>\n",
       "      <th>Owner's Boating Experience</th>\n",
       "      <td>10 years of boating experience, including 5 ye...</td>\n",
       "    </tr>\n",
       "    <tr>\n",
       "      <th>Previous Insurance Claims</th>\n",
       "      <td>No accidents or insurance claims in the past</td>\n",
       "    </tr>\n",
       "    <tr>\n",
       "      <th>Additional Equipment</th>\n",
       "      <td>Max speed: 32 knots, Sleeping capacity: 8 people</td>\n",
       "    </tr>\n",
       "    <tr>\n",
       "      <th>Current Insurance Coverage</th>\n",
       "      <td>Not specified</td>\n",
       "    </tr>\n",
       "    <tr>\n",
       "      <th>Other</th>\n",
       "      <td>Request for full coverage, interested in liabi...</td>\n",
       "    </tr>\n",
       "  </tbody>\n",
       "</table>\n",
       "</div>"
      ],
      "text/plain": [
       "                                                                            new\n",
       "Yacht Model                                              Sunseeker Manhattan 68\n",
       "Yacht Length                                                            68 feet\n",
       "Year of Manufacture                                                        2022\n",
       "Current Value/Purchase Price                                         $3,200,000\n",
       "Current Location                                     Marina del Rey, California\n",
       "Intended Cruising Area        Coastal cruising, with occasional trips to Mexico\n",
       "Owner's Name                                                         John Smith\n",
       "Owner's Contact Information                                      (310) 555-1234\n",
       "Owner's Boating Experience    10 years of boating experience, including 5 ye...\n",
       "Previous Insurance Claims          No accidents or insurance claims in the past\n",
       "Additional Equipment           Max speed: 32 knots, Sleeping capacity: 8 people\n",
       "Current Insurance Coverage                                        Not specified\n",
       "Other                         Request for full coverage, interested in liabi..."
      ]
     },
     "execution_count": 67,
     "metadata": {},
     "output_type": "execute_result"
    }
   ],
   "source": [
    "df"
   ]
  },
  {
   "cell_type": "markdown",
   "metadata": {},
   "source": [
    "# Tavily search"
   ]
  },
  {
   "cell_type": "code",
   "execution_count": 69,
   "metadata": {},
   "outputs": [],
   "source": [
    "from tavily import TavilyClient\n",
    "apikey='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'\n",
    "tavily_client = TavilyClient(api_key=apikey)"
   ]
  },
  {
   "cell_type": "code",
   "execution_count": 70,
   "metadata": {},
   "outputs": [
    {
     "name": "stdout",
     "output_type": "stream",
     "text": [
      "{'query': 'Who is Leo Messi?', 'follow_up_questions': None, 'answer': None, 'images': [], 'results': [{'title': '33 Best Facts Of Messi', 'url': 'https://facts.net/lifestyle/sports/33-best-facts-of-messi/', 'content': \"Messi's full name is Lionel Andrés Messi. Lionel Andrés Messi, widely known as Messi, was born on June 24, 1987, in Rosario, Argentina. His exceptional football skills have earned him global recognition and numerous accolades throughout his career. Messi joined FC Barcelona at the age of 13.\", 'score': 0.9941801, 'raw_content': None}, {'title': 'Lionel Messi | Biography, Competitions, Wins and Medals', 'url': 'https://olympics.com/en/athletes/lionel-messi', 'content': '“The Olympic gold in 2008 is the win that I value the most because it is a tournament that you may play only once in your life and involves many athletes from different disciplines” - Lionel Messi, Spanish Esquire\\nFeatured\\nLatest News\\nOlympic Results\\nAthlete Olympic Results Content\\nYou may like Lionel MESSI\\nBiography\\nBorn in Rosario, Argentina in 1987 Lionel Messi is widely held to be one of the greatest football players of his generation — and with good reason.\\n Graduating quickly through the club’s ranks thanks to his ever-growing skill set Messi made his first senior appearance for the club at the age of 17.\\n When he eventually left the team in 2021 for French club Paris Saint-Germain the Argentine completed his time in La Liga as its top goal-scorer, with an eye-watering 474 successful shots to his name.\\n He also came close to winning the FIFA World Cup in 2014 but Argentina fell to Germany 1-0 in the final.\\n', 'score': 0.94240075, 'raw_content': None}, {'title': \"Lionel Messi's Life Story: The Smallest Boy With The Biggest Dreams\", 'url': 'https://www.goalcast.com/lionel-messis-life-story/', 'content': 'Inspired by his family and motivated by his passion, Lionel Messi pushed his boundaries to go from being the “smallest player on the pitch” to one of the greatest\\xa0athletes of our time.\\n After every goal, he would point two fingers towards the sky, dedicating the triumph to his grandmother.\\nResignation, return, and philanthropy\\nAt 27 years old, Messi proudly played for his home country at the 2014 World Cup in Brazil. The boy who was once too small to play with his cousins is now the winner of five Golden Balls, three European Golden Shoes, and is one of the top goal scorers in the world. His treatment was finally over, and his body began to\\xa0grow normally again, ultimately reaching 5′ 7″.\\nIn 2003, at 16 years old,\\xa0Messi made his professional debut representing Barcelona in a match versus Porto. Even though he is shorter than most of his teammates, he rises above his opponents with adept skill and a legendary ability to score goals for his team.\\n', 'score': 0.9418684, 'raw_content': None}, {'title': \"Lionel Messi | Records, Height, Ballon d'Or, Inter Miami, & Facts ...\", 'url': 'https://www.britannica.com/biography/Lionel-Messi', 'content': 'In early 2009 Messi capped off a spectacular 2008–09 season by helping FC Barcelona capture the club’s first “treble” (winning three major European club titles in one season): the team won the La Liga championship, the Copa del Rey (Spain’s major domestic cup), and the Champions League title. Messi’s play continued to rapidly improve over the years, and by 2008 he was one of the most dominant players in the world, finishing second to Manchester United’s Cristiano Ronaldo in the voting for the 2008 Ballon d’Or. At the 2014 World Cup, Messi put on a dazzling display, scoring four goals and almost single-handedly propelling an offense-deficient Argentina team through the group stage and into the knockout rounds, where Argentina then advanced to the World Cup final for the first time in 24 years. After Argentina was defeated in the Copa final—the team’s third consecutive finals loss in a major tournament—Messi said that he was quitting the national team, but his short-lived “retirement” lasted less than two months before he announced his return to the Argentine team. Messi helped Barcelona capture another treble during the 2014–15 season, leading the team with 43 goals scored over the course of the campaign, which resulted in his fifth world player of the year honour.', 'score': 0.8749346, 'raw_content': None}, {'title': 'Lionel Messi Biography', 'url': 'https://www.biographyonline.net/sport/football/lionel-messi.html', 'content': 'In the 2010 World Cup, Messi wore the number 10 shirt and played well to help Argentina reach the quarter-finals, but Messi struggled to score, and Argentina disappointingly lost 4-0 to Germany in the quarter-final. He is an incredible player, gigantic.”\\n– Gerd Muller\\nAt the start of 2013, in club football, Messi has scored 292 goals from a total of 359 appearances, and in international football, 31 goals from 76 appearances.\\n The decision was contentious and not in keeping with Messi’s style of play which is generally clean and in the spirit of fair play; he has very rarely been accused of diving.\\n (total Barca)\\n– Lionel Messi\\nAfter winning the Ballon d’Or for the fourth time in January 2013, Messi said:\\n“To tell you the truth this is really quite unbelievable. Messi major honours\\nBarcelona\\nArgentina\\nWealth and income\\nMessi has frequently been the target of other football clubs with big transfer budgets, but he has remained loyal to Barcelona FC.', 'score': 0.82375413, 'raw_content': None}], 'response_time': 2.23}\n"
     ]
    }
   ],
   "source": [
    "response = tavily_client.search(\"Who is Leo Messi?\")\n",
    "print(response)"
   ]
  },
  {
   "cell_type": "code",
   "execution_count": 79,
   "metadata": {},
   "outputs": [
    {
     "data": {
      "text/plain": [
       "[{'title': '33 Best Facts Of Messi',\n",
       "  'url': 'https://facts.net/lifestyle/sports/33-best-facts-of-messi/',\n",
       "  'content': \"Messi's full name is Lionel Andrés Messi. Lionel Andrés Messi, widely known as Messi, was born on June 24, 1987, in Rosario, Argentina. His exceptional football skills have earned him global recognition and numerous accolades throughout his career. Messi joined FC Barcelona at the age of 13.\",\n",
       "  'score': 0.9941801,\n",
       "  'raw_content': None},\n",
       " {'title': 'Lionel Messi | Biography, Competitions, Wins and Medals',\n",
       "  'url': 'https://olympics.com/en/athletes/lionel-messi',\n",
       "  'content': '“The Olympic gold in 2008 is the win that I value the most because it is a tournament that you may play only once in your life and involves many athletes from different disciplines” - Lionel Messi, Spanish Esquire\\nFeatured\\nLatest News\\nOlympic Results\\nAthlete Olympic Results Content\\nYou may like Lionel MESSI\\nBiography\\nBorn in Rosario, Argentina in 1987 Lionel Messi is widely held to be one of the greatest football players of his generation — and with good reason.\\n Graduating quickly through the club’s ranks thanks to his ever-growing skill set Messi made his first senior appearance for the club at the age of 17.\\n When he eventually left the team in 2021 for French club Paris Saint-Germain the Argentine completed his time in La Liga as its top goal-scorer, with an eye-watering 474 successful shots to his name.\\n He also came close to winning the FIFA World Cup in 2014 but Argentina fell to Germany 1-0 in the final.\\n',\n",
       "  'score': 0.94240075,\n",
       "  'raw_content': None},\n",
       " {'title': \"Lionel Messi's Life Story: The Smallest Boy With The Biggest Dreams\",\n",
       "  'url': 'https://www.goalcast.com/lionel-messis-life-story/',\n",
       "  'content': 'Inspired by his family and motivated by his passion, Lionel Messi pushed his boundaries to go from being the “smallest player on the pitch” to one of the greatest\\xa0athletes of our time.\\n After every goal, he would point two fingers towards the sky, dedicating the triumph to his grandmother.\\nResignation, return, and philanthropy\\nAt 27 years old, Messi proudly played for his home country at the 2014 World Cup in Brazil. The boy who was once too small to play with his cousins is now the winner of five Golden Balls, three European Golden Shoes, and is one of the top goal scorers in the world. His treatment was finally over, and his body began to\\xa0grow normally again, ultimately reaching 5′ 7″.\\nIn 2003, at 16 years old,\\xa0Messi made his professional debut representing Barcelona in a match versus Porto. Even though he is shorter than most of his teammates, he rises above his opponents with adept skill and a legendary ability to score goals for his team.\\n',\n",
       "  'score': 0.9418684,\n",
       "  'raw_content': None},\n",
       " {'title': \"Lionel Messi | Records, Height, Ballon d'Or, Inter Miami, & Facts ...\",\n",
       "  'url': 'https://www.britannica.com/biography/Lionel-Messi',\n",
       "  'content': 'In early 2009 Messi capped off a spectacular 2008–09 season by helping FC Barcelona capture the club’s first “treble” (winning three major European club titles in one season): the team won the La Liga championship, the Copa del Rey (Spain’s major domestic cup), and the Champions League title. Messi’s play continued to rapidly improve over the years, and by 2008 he was one of the most dominant players in the world, finishing second to Manchester United’s Cristiano Ronaldo in the voting for the 2008 Ballon d’Or. At the 2014 World Cup, Messi put on a dazzling display, scoring four goals and almost single-handedly propelling an offense-deficient Argentina team through the group stage and into the knockout rounds, where Argentina then advanced to the World Cup final for the first time in 24 years. After Argentina was defeated in the Copa final—the team’s third consecutive finals loss in a major tournament—Messi said that he was quitting the national team, but his short-lived “retirement” lasted less than two months before he announced his return to the Argentine team. Messi helped Barcelona capture another treble during the 2014–15 season, leading the team with 43 goals scored over the course of the campaign, which resulted in his fifth world player of the year honour.',\n",
       "  'score': 0.8749346,\n",
       "  'raw_content': None},\n",
       " {'title': 'Lionel Messi Biography',\n",
       "  'url': 'https://www.biographyonline.net/sport/football/lionel-messi.html',\n",
       "  'content': 'In the 2010 World Cup, Messi wore the number 10 shirt and played well to help Argentina reach the quarter-finals, but Messi struggled to score, and Argentina disappointingly lost 4-0 to Germany in the quarter-final. He is an incredible player, gigantic.”\\n– Gerd Muller\\nAt the start of 2013, in club football, Messi has scored 292 goals from a total of 359 appearances, and in international football, 31 goals from 76 appearances.\\n The decision was contentious and not in keeping with Messi’s style of play which is generally clean and in the spirit of fair play; he has very rarely been accused of diving.\\n (total Barca)\\n– Lionel Messi\\nAfter winning the Ballon d’Or for the fourth time in January 2013, Messi said:\\n“To tell you the truth this is really quite unbelievable. Messi major honours\\nBarcelona\\nArgentina\\nWealth and income\\nMessi has frequently been the target of other football clubs with big transfer budgets, but he has remained loyal to Barcelona FC.',\n",
       "  'score': 0.82375413,\n",
       "  'raw_content': None}]"
      ]
     },
     "execution_count": 79,
     "metadata": {},
     "output_type": "execute_result"
    }
   ],
   "source": [
    "type(response['results'])\n",
    "response['results']"
   ]
  },
  {
   "cell_type": "code",
   "execution_count": null,
   "metadata": {},
   "outputs": [],
   "source": [
    "email_John = \"\"\"Subject: Insurance Quote for My New Sunseeker\n",
    "\n",
    "To whom it may concern,\n",
    "\n",
    "I recently purchased a Sunseeker Manhattan 68 yacht and I'm looking for comprehensive insurance coverage. The yacht is 68 feet long and was built in 2022. It's currently docked at Marina del Rey in California.\n",
    "\n",
    "Some additional details:\n",
    "\n",
    "- Purchase price: $3,200,000\n",
    "- Max speed: 32 knots\n",
    "- Sleeping capacity: 8 people\n",
    "- Planning to use it mainly for coastal cruising, with occasional trips to Mexico\n",
    "\n",
    "I have 10 years of boating experience, including 5 years with vessels over 50 feet. No accidents or insurance claims in the past.\n",
    "\n",
    "Could you please provide me with a quote for full coverage? I'm particularly interested in options for liability coverage.\n",
    "\n",
    "Thank you,\n",
    "John Smith\n",
    "Phone: (310) 555-1234\"\"\""
   ]
  },
  {
   "cell_type": "code",
   "execution_count": null,
   "metadata": {},
   "outputs": [],
   "source": [
    "email_Sarah = \"\"\"Subject: Need insurance for secondhand yacht\n",
    "\n",
    "Hi there,\n",
    "\n",
    "I'm reaching out about insuring a yacht I'm considering buying. It's a used Azimut 50 Fly, I think from around 2018 or 2019. The current owner is asking $1.1 million.\n",
    "\n",
    "I'm new to yacht ownership, but I've taken some courses in navigation and boat handling. The yacht will be kept at a marina in Miami most of the time, but I'd like the freedom to sail around the Caribbean.\n",
    "\n",
    "Not sure what other information you need, but please let me know if you can give me a ballpark figure for insurance costs.\n",
    "\n",
    "Thanks!\n",
    "Sarah\"\"\""
   ]
  },
  {
   "cell_type": "code",
   "execution_count": 80,
   "metadata": {},
   "outputs": [],
   "source": [
    "import pandas as pd\n",
    "\n",
    "# Load CSV file into a DataFrame\n",
    "df = pd.read_csv('sample/result_extracted02-11-2024_2331.csv')"
   ]
  },
  {
   "cell_type": "code",
   "execution_count": 86,
   "metadata": {},
   "outputs": [],
   "source": [
    "entities = [\"Yacht Model\", \"Yacht Length\", \"Year of Manufacture\", \"Current Value/Purchase Price\", \"Current Location\", \"Intended Cruising Area\", \"Owner's Name\", \"Owner's Contact Information\", \"Owner's Boating Experience\", \"Previous Insurance Claims\", \"Additional Equipment\", \"Current Insurance Coverage\", \"Other\"]"
   ]
  },
  {
   "cell_type": "code",
   "execution_count": 89,
   "metadata": {},
   "outputs": [
    {
     "data": {
      "text/html": [
       "<div>\n",
       "<style scoped>\n",
       "    .dataframe tbody tr th:only-of-type {\n",
       "        vertical-align: middle;\n",
       "    }\n",
       "\n",
       "    .dataframe tbody tr th {\n",
       "        vertical-align: top;\n",
       "    }\n",
       "\n",
       "    .dataframe thead th {\n",
       "        text-align: right;\n",
       "    }\n",
       "</style>\n",
       "<table border=\"1\" class=\"dataframe\">\n",
       "  <thead>\n",
       "    <tr style=\"text-align: right;\">\n",
       "      <th></th>\n",
       "      <th>Sarah</th>\n",
       "      <th>John</th>\n",
       "    </tr>\n",
       "  </thead>\n",
       "  <tbody>\n",
       "    <tr>\n",
       "      <th>Yacht Model</th>\n",
       "      <td>Azimut 50 Fly</td>\n",
       "      <td>Sunseeker Manhattan 68</td>\n",
       "    </tr>\n",
       "    <tr>\n",
       "      <th>Yacht Length</th>\n",
       "      <td>50</td>\n",
       "      <td>68 feet</td>\n",
       "    </tr>\n",
       "    <tr>\n",
       "      <th>Year of Manufacture</th>\n",
       "      <td>2018 or 2019</td>\n",
       "      <td>2022</td>\n",
       "    </tr>\n",
       "    <tr>\n",
       "      <th>Current Value/Purchase Price</th>\n",
       "      <td>$1.1 million</td>\n",
       "      <td>$3,200,000</td>\n",
       "    </tr>\n",
       "    <tr>\n",
       "      <th>Current Location</th>\n",
       "      <td>Miami</td>\n",
       "      <td>Marina del Rey, California</td>\n",
       "    </tr>\n",
       "    <tr>\n",
       "      <th>Intended Cruising Area</th>\n",
       "      <td>Caribbean</td>\n",
       "      <td>Coastal cruising, trips to Mexico</td>\n",
       "    </tr>\n",
       "    <tr>\n",
       "      <th>Owner's Name</th>\n",
       "      <td>Sarah</td>\n",
       "      <td>John Smith</td>\n",
       "    </tr>\n",
       "    <tr>\n",
       "      <th>Owner's Contact Information</th>\n",
       "      <td>Not provided</td>\n",
       "      <td>(310) 555-1234</td>\n",
       "    </tr>\n",
       "    <tr>\n",
       "      <th>Owner's Boating Experience</th>\n",
       "      <td>New, has taken courses in navigation and boat ...</td>\n",
       "      <td>10 years, 5 years with vessels over 50 feet</td>\n",
       "    </tr>\n",
       "    <tr>\n",
       "      <th>Previous Insurance Claims</th>\n",
       "      <td>Not mentioned</td>\n",
       "      <td>No accidents or claims</td>\n",
       "    </tr>\n",
       "    <tr>\n",
       "      <th>Additional Equipment</th>\n",
       "      <td>Not mentioned</td>\n",
       "      <td>Max speed: 32 knots, Sleeping capacity: 8 people</td>\n",
       "    </tr>\n",
       "    <tr>\n",
       "      <th>Current Insurance Coverage</th>\n",
       "      <td>Not mentioned</td>\n",
       "      <td>None specified</td>\n",
       "    </tr>\n",
       "    <tr>\n",
       "      <th>Other</th>\n",
       "      <td>Not mentioned</td>\n",
       "      <td>Interested in options for liability coverage</td>\n",
       "    </tr>\n",
       "  </tbody>\n",
       "</table>\n",
       "</div>"
      ],
      "text/plain": [
       "                                                                          Sarah  \\\n",
       "Yacht Model                                                       Azimut 50 Fly   \n",
       "Yacht Length                                                                 50   \n",
       "Year of Manufacture                                                2018 or 2019   \n",
       "Current Value/Purchase Price                                       $1.1 million   \n",
       "Current Location                                                          Miami   \n",
       "Intended Cruising Area                                                Caribbean   \n",
       "Owner's Name                                                              Sarah   \n",
       "Owner's Contact Information                                        Not provided   \n",
       "Owner's Boating Experience    New, has taken courses in navigation and boat ...   \n",
       "Previous Insurance Claims                                         Not mentioned   \n",
       "Additional Equipment                                              Not mentioned   \n",
       "Current Insurance Coverage                                        Not mentioned   \n",
       "Other                                                             Not mentioned   \n",
       "\n",
       "                                                                          John  \n",
       "Yacht Model                                             Sunseeker Manhattan 68  \n",
       "Yacht Length                                                           68 feet  \n",
       "Year of Manufacture                                                       2022  \n",
       "Current Value/Purchase Price                                        $3,200,000  \n",
       "Current Location                                    Marina del Rey, California  \n",
       "Intended Cruising Area                       Coastal cruising, trips to Mexico  \n",
       "Owner's Name                                                        John Smith  \n",
       "Owner's Contact Information                                     (310) 555-1234  \n",
       "Owner's Boating Experience         10 years, 5 years with vessels over 50 feet  \n",
       "Previous Insurance Claims                               No accidents or claims  \n",
       "Additional Equipment          Max speed: 32 knots, Sleeping capacity: 8 people  \n",
       "Current Insurance Coverage                                      None specified  \n",
       "Other                             Interested in options for liability coverage  "
      ]
     },
     "execution_count": 89,
     "metadata": {},
     "output_type": "execute_result"
    }
   ],
   "source": [
    "df = df.drop(columns='tanyaton')\n",
    "df.index =entities\n",
    "df"
   ]
  },
  {
   "cell_type": "code",
   "execution_count": 90,
   "metadata": {},
   "outputs": [
    {
     "data": {
      "text/html": [
       "<div>\n",
       "<style scoped>\n",
       "    .dataframe tbody tr th:only-of-type {\n",
       "        vertical-align: middle;\n",
       "    }\n",
       "\n",
       "    .dataframe tbody tr th {\n",
       "        vertical-align: top;\n",
       "    }\n",
       "\n",
       "    .dataframe thead th {\n",
       "        text-align: right;\n",
       "    }\n",
       "</style>\n",
       "<table border=\"1\" class=\"dataframe\">\n",
       "  <thead>\n",
       "    <tr style=\"text-align: right;\">\n",
       "      <th></th>\n",
       "      <th>Sarah</th>\n",
       "      <th>John</th>\n",
       "    </tr>\n",
       "  </thead>\n",
       "  <tbody>\n",
       "    <tr>\n",
       "      <th>Yacht Model</th>\n",
       "      <td>Azimut 50 Fly</td>\n",
       "      <td>Sunseeker Manhattan 68</td>\n",
       "    </tr>\n",
       "    <tr>\n",
       "      <th>Yacht Length</th>\n",
       "      <td>50</td>\n",
       "      <td>68 feet</td>\n",
       "    </tr>\n",
       "    <tr>\n",
       "      <th>Year of Manufacture</th>\n",
       "      <td>2018 or 2019</td>\n",
       "      <td>2022</td>\n",
       "    </tr>\n",
       "    <tr>\n",
       "      <th>Current Value/Purchase Price</th>\n",
       "      <td>$1.1 million</td>\n",
       "      <td>$3,200,000</td>\n",
       "    </tr>\n",
       "    <tr>\n",
       "      <th>Current Location</th>\n",
       "      <td>Miami</td>\n",
       "      <td>Marina del Rey, California</td>\n",
       "    </tr>\n",
       "    <tr>\n",
       "      <th>Intended Cruising Area</th>\n",
       "      <td>Caribbean</td>\n",
       "      <td>Coastal cruising, trips to Mexico</td>\n",
       "    </tr>\n",
       "    <tr>\n",
       "      <th>Owner's Name</th>\n",
       "      <td>Sarah</td>\n",
       "      <td>John Smith</td>\n",
       "    </tr>\n",
       "    <tr>\n",
       "      <th>Owner's Contact Information</th>\n",
       "      <td>Not provided</td>\n",
       "      <td>(310) 555-1234</td>\n",
       "    </tr>\n",
       "    <tr>\n",
       "      <th>Owner's Boating Experience</th>\n",
       "      <td>New, has taken courses in navigation and boat ...</td>\n",
       "      <td>10 years, 5 years with vessels over 50 feet</td>\n",
       "    </tr>\n",
       "    <tr>\n",
       "      <th>Previous Insurance Claims</th>\n",
       "      <td>Not mentioned</td>\n",
       "      <td>No accidents or claims</td>\n",
       "    </tr>\n",
       "    <tr>\n",
       "      <th>Additional Equipment</th>\n",
       "      <td>Not mentioned</td>\n",
       "      <td>Max speed: 32 knots, Sleeping capacity: 8 people</td>\n",
       "    </tr>\n",
       "    <tr>\n",
       "      <th>Current Insurance Coverage</th>\n",
       "      <td>Not mentioned</td>\n",
       "      <td>None specified</td>\n",
       "    </tr>\n",
       "    <tr>\n",
       "      <th>Other</th>\n",
       "      <td>Not mentioned</td>\n",
       "      <td>Interested in options for liability coverage</td>\n",
       "    </tr>\n",
       "  </tbody>\n",
       "</table>\n",
       "</div>"
      ],
      "text/plain": [
       "                                                                          Sarah  \\\n",
       "Yacht Model                                                       Azimut 50 Fly   \n",
       "Yacht Length                                                                 50   \n",
       "Year of Manufacture                                                2018 or 2019   \n",
       "Current Value/Purchase Price                                       $1.1 million   \n",
       "Current Location                                                          Miami   \n",
       "Intended Cruising Area                                                Caribbean   \n",
       "Owner's Name                                                              Sarah   \n",
       "Owner's Contact Information                                        Not provided   \n",
       "Owner's Boating Experience    New, has taken courses in navigation and boat ...   \n",
       "Previous Insurance Claims                                         Not mentioned   \n",
       "Additional Equipment                                              Not mentioned   \n",
       "Current Insurance Coverage                                        Not mentioned   \n",
       "Other                                                             Not mentioned   \n",
       "\n",
       "                                                                          John  \n",
       "Yacht Model                                             Sunseeker Manhattan 68  \n",
       "Yacht Length                                                           68 feet  \n",
       "Year of Manufacture                                                       2022  \n",
       "Current Value/Purchase Price                                        $3,200,000  \n",
       "Current Location                                    Marina del Rey, California  \n",
       "Intended Cruising Area                       Coastal cruising, trips to Mexico  \n",
       "Owner's Name                                                        John Smith  \n",
       "Owner's Contact Information                                     (310) 555-1234  \n",
       "Owner's Boating Experience         10 years, 5 years with vessels over 50 feet  \n",
       "Previous Insurance Claims                               No accidents or claims  \n",
       "Additional Equipment          Max speed: 32 knots, Sleeping capacity: 8 people  \n",
       "Current Insurance Coverage                                      None specified  \n",
       "Other                             Interested in options for liability coverage  "
      ]
     },
     "execution_count": 90,
     "metadata": {},
     "output_type": "execute_result"
    }
   ],
   "source": [
    "df"
   ]
  },
  {
   "cell_type": "code",
   "execution_count": null,
   "metadata": {},
   "outputs": [
    {
     "data": {
      "text/plain": [
       "{'query': \"Search for ['Yacht Model', 'Yacht Length', 'Year of Manufacture'] of the Yacht model Azimut 50 Fly\",\n",
       " 'follow_up_questions': None,\n",
       " 'answer': None,\n",
       " 'images': [],\n",
       " 'results': [{'title': '2022 Azimut 50 Flybridge 50 Boats for Sale - Edwards Yacht Sales',\n",
       "   'url': 'https://www.edwardsyachtsales.com/boat/2022/azimut/50-flybridge/43329/',\n",
       "   'content': 'View a large selection of Azimut boats for sale at Edwards Yacht Sales, the source of brokerage boats and yachts on the web. ... Manufacturer: Azimut Model: 50 Flybridge Year: 2022 Category: Power Condition: Used ... Hull Type: Hull Color: HIN: Designer: Flag of Registry: Dimensions & Weight. Length: 50 ft - 15.24 meter LOA: 50 ft - 15.24 meter',\n",
       "   'score': 0.9998727,\n",
       "   'raw_content': None},\n",
       "  {'title': 'Azimut 50 Fly boats for sale - Boat Trader',\n",
       "   'url': 'https://www.boattrader.com/boats/make-azimut/model-50-fly/',\n",
       "   'content': 'Find 28 Azimut 50 Fly boats for sale near you, including boat prices, photos, and more. ... Model-azimut-desktop. 50 fly. Model-azimut-desktop. 55S. Model-azimut-desktop. S6. ... Sponsored Boats | Related to your search. 2002 Azimut 42. $249,900. Bay Island Yacht Sales. 2001 Camano 31 Trawler. $75,000.',\n",
       "   'score': 0.9997749,\n",
       "   'raw_content': None},\n",
       "  {'title': 'Azimut 50 Fly boats for sale in United States - YachtWorld',\n",
       "   'url': 'https://www.yachtworld.com/boats-for-sale/make-azimut/model-50-fly/country-united-states/',\n",
       "   'content': 'Find Azimut 50 Fly boats for sale in United States. Offering the best selection of Azimut boats to choose from. ... Clear Filter Make / Model: Azimut - 50 fly Country: United States. Location. By Radius. By Country. country-all. All Countries. Country-ES. Spain. ... 2001 Tiara Yachts 52 Sport Yacht. US$324,000. Bluewater Yacht Sales',\n",
       "   'score': 0.99957114,\n",
       "   'raw_content': None},\n",
       "  {'title': 'Azimut 50 boats for sale - Boat Trader',\n",
       "   'url': 'https://www.boattrader.com/boats/make-azimut/model-50/',\n",
       "   'content': 'Find 19 Azimut 50 boats for sale near you, including boat prices, photos, and more. ... Model-azimut-desktop. 55S. Model-azimut-desktop. S6. Model-azimut-desktop. S7. Model-azimut-desktop. ... 2015 Sea Ray 510 Fly. $799,000. Bluewater Yacht Sales. 2006 Albemarle 410 Express Fisherman. $299,900.',\n",
       "   'score': 0.99937123,\n",
       "   'raw_content': None},\n",
       "  {'title': 'Azimut 50 boats for sale - YachtWorld',\n",
       "   'url': 'https://www.yachtworld.com/boats-for-sale/make-azimut/model-50/',\n",
       "   'content': 'Find Azimut 50 boats for sale in your area & across the world on YachtWorld. Offering the best selection of Azimut boats to choose from. ... Model-azimut-desktop. 50. Model-azimut-desktop. 55. Model-azimut-desktop. 62. ... 2014 Azimut 50. US$679,740. Navis Yachting | Salesmarina Hellevoetsluis, Netherlands. Featured; 2007 Azimut 50. US$395,881.',\n",
       "   'score': 0.99843305,\n",
       "   'raw_content': None}],\n",
       " 'response_time': 2.72}"
      ]
     },
     "execution_count": 132,
     "metadata": {},
     "output_type": "execute_result"
    }
   ],
   "source": [
    "response_link = tavily_client.search(f\"Search for Yacht model Azimut 50 Fly \")\n",
    "response_link"
   ]
  },
  {
   "cell_type": "code",
   "execution_count": 123,
   "metadata": {},
   "outputs": [
    {
     "ename": "TypeError",
     "evalue": "string indices must be integers",
     "output_type": "error",
     "traceback": [
      "\u001b[0;31m---------------------------------------------------------------------------\u001b[0m",
      "\u001b[0;31mTypeError\u001b[0m                                 Traceback (most recent call last)",
      "Cell \u001b[0;32mIn[123], line 1\u001b[0m\n\u001b[0;32m----> 1\u001b[0m \u001b[43mresponse\u001b[49m\u001b[43m[\u001b[49m\u001b[38;5;124;43m'\u001b[39;49m\u001b[38;5;124;43mresults\u001b[39;49m\u001b[38;5;124;43m'\u001b[39;49m\u001b[43m]\u001b[49m[\u001b[38;5;241m0\u001b[39m][\u001b[38;5;124m'\u001b[39m\u001b[38;5;124murl\u001b[39m\u001b[38;5;124m'\u001b[39m]\n",
      "\u001b[0;31mTypeError\u001b[0m: string indices must be integers"
     ]
    }
   ],
   "source": [
    "response['results'][0]['url']"
   ]
  },
  {
   "cell_type": "code",
   "execution_count": 136,
   "metadata": {},
   "outputs": [],
   "source": [
    "def generate_search_prompt(email_dic,link):\n",
    "    messages = {\n",
    "        \"messages\": [\n",
    "            {\n",
    "            \"content\": \"\"\"given you a list of 3 internet link resources that contain the missing information for the given Yatch Model PYTHON DICTIONARY.\n",
    "Please search through the links to find the information for the missing value (None) in the given PYTHON DICTIONARY. If all the informtion is found in the first link, there is no need to look in to the second or third link. If not, continue the search on the second link, and so on. \n",
    "Replace the None value in PYTHON DICTIONARY with new information and return only the Python Dictionary format below: \n",
    "{\"Yacht Model\": \"\",\"Yacht Length\": \"\",\"Year of Manufacture\": \"\",\"Current Value/Purchase Price\": \"\",\"Current Location\": \"\",\"Intended Cruising Area\": \"\",\"Owner's Name\": \"\",\"Owner's Contact Information\": \"\",\"Owner's Boating Experience\": \"\",\"Previous Insurance Claims\": \",\"Additional Equipment\": \"\",\"Current Insurance Coverage\": \"\",\"Other\": \"\"}\n",
    "If you are unable to locate the missing information, simply return the Python dictionary with the values unchanged. Do not provide any further explanation\n",
    "\"\"\",\n",
    "            \"role\": \"system\"\n",
    "            },\n",
    "            {\n",
    "            \"content\": f\"\"\"PYTHON DICTIONARY: {email_dic}\n",
    "RESOURCE LINK: {link}\"\"\",\n",
    "            \"role\": \"user\"\n",
    "            },\n",
    "            {\n",
    "            \"content\": \"\",\n",
    "            \"role\": \"assistant\"\n",
    "            },\n",
    "        ]\n",
    "    }\n",
    "    return messages[\"messages\"]"
   ]
  },
  {
   "cell_type": "code",
   "execution_count": 127,
   "metadata": {},
   "outputs": [
    {
     "data": {
      "text/plain": [
       "'https://www.edwardsyachtsales.com/boat/2019/azimut/50-flybridge/40356/'"
      ]
     },
     "execution_count": 127,
     "metadata": {},
     "output_type": "execute_result"
    }
   ],
   "source": [
    "response['results'][0]['url']"
   ]
  },
  {
   "cell_type": "code",
   "execution_count": 193,
   "metadata": {},
   "outputs": [],
   "source": [
    "# yatch_model = 'Yacht model Azimut 50 Fly'\n",
    "email_dic = {\n",
    "  \"Yacht Model\": \"Sunseeker Manhattan 68\",\n",
    "  \"Yacht Length\": \"68 feet\",\n",
    "  \"Year of Manufacture\": None,\n",
    "  \"Current Value/Purchase Price\": None,\n",
    "  \"Current Location\": \"Marina del Rey, California\",\n",
    "  \"Intended Cruising Area\": \"Coastal cruising, with occasional trips to Mexico\",\n",
    "  \"Owner's Name\": \"John Smith\",\n",
    "  \"Owner's Contact Information\": \"(310) 555-1234\",\n",
    "  \"Owner's Boating Experience\": \"10 years, including 5 years with vessels over 50 feet\",\n",
    "  \"Previous Insurance Claims\": \"No accidents or insurance claims in the past\",\n",
    "  \"Additional Equipment\": None,\n",
    "  \"Current Insurance Coverage\": None,\n",
    "  \"Other\": \"Interested in options for liability coverage\"\n",
    "}\n",
    "\n",
    "def search_web(email_dic, tavily_client):\n",
    "    yatch_model = email_dic[0]\n",
    "    message = f'Search for {entities[:3]} of the {yatch_model}'\n",
    "    response = tavily_client.search(message)\n",
    "    return [response['results'][0]['url'], response['results'][1]['url'], response['results'][2]['url']]\n",
    "\n",
    "\n",
    "# link = search_web(email_dic, tavily_client, [:3])\n",
    "# prompt = generate_search_prompt(email_dic,link)\n",
    "# print(prompt)\n",
    "# response = generate_answer(model_llm,prompt)\n",
    "# print(response)"
   ]
  },
  {
   "cell_type": "code",
   "execution_count": 140,
   "metadata": {},
   "outputs": [
    {
     "data": {
      "text/plain": [
       "'{\"Yacht Model\": \"Sunseeker Manhattan 68\", \"Yacht Length\": \"68 feet\", \"Year of Manufacture\": \"2025\", \"Current Value/Purchase Price\": \"$2,700,000\", \"Current Location\": \"Marina del Rey, California\", \"Intended Cruising Area\": \"Coastal cruising, with occasional trips to Mexico\", \"Owner\\'s Name\": \"John Smith\", \"Owner\\'s Contact Information\": \"(310) 555-1234\", \"Owner\\'s Boating Experience\": \"10 years, including 5 years with vessels over 50 feet\", \"Previous Insurance Claims\": \"No accidents or insurance claims in the past\", \"Additional Equipment\": \"Jet skis, Seabobs\", \"Current Insurance Coverage\": \"Comprehensive hull and machinery, personal accident and liability\", \"Other\": \"Interested in options for liability coverage\"}'"
      ]
     },
     "execution_count": 140,
     "metadata": {},
     "output_type": "execute_result"
    }
   ],
   "source": [
    "response"
   ]
  },
  {
   "cell_type": "code",
   "execution_count": 142,
   "metadata": {},
   "outputs": [],
   "source": [
    "response_dic = json.loads(response)"
   ]
  },
  {
   "cell_type": "code",
   "execution_count": 145,
   "metadata": {},
   "outputs": [
    {
     "data": {
      "text/plain": [
       "dict_values(['Sunseeker Manhattan 68', '68 feet', '2025', '$2,700,000', 'Marina del Rey, California', 'Coastal cruising, with occasional trips to Mexico', 'John Smith', '(310) 555-1234', '10 years, including 5 years with vessels over 50 feet', 'No accidents or insurance claims in the past', 'Jet skis, Seabobs', 'Comprehensive hull and machinery, personal accident and liability', 'Interested in options for liability coverage'])"
      ]
     },
     "execution_count": 145,
     "metadata": {},
     "output_type": "execute_result"
    }
   ],
   "source": [
    "response_dic.values()"
   ]
  },
  {
   "cell_type": "code",
   "execution_count": 186,
   "metadata": {},
   "outputs": [],
   "source": [
    "def response_format_dic(response):\n",
    "    response_dic = response.replace('\\n    ', '').replace('python', '').replace('```', '')\n",
    "    data = json.loads(response_dic)\n",
    "    return data\n",
    "\n",
    "def response_format_df(response):\n",
    "    response_list = ast.literal_eval(response)\n",
    "    return response_list"
   ]
  },
  {
   "cell_type": "code",
   "execution_count": 171,
   "metadata": {},
   "outputs": [],
   "source": [
    "def generate_prompt(email):\n",
    "    messages = {\n",
    "        \"messages\": [\n",
    "            {\n",
    "            \"content\": instruction_dic,\n",
    "            \"role\": \"system\"\n",
    "            },\n",
    "            {\n",
    "            \"content\": f\"\"\"INSURANCE REQUEST EMAIL: {email}\"\"\",\n",
    "            \"role\": \"user\"\n",
    "            },\n",
    "            {\n",
    "            \"content\": \"{\",\n",
    "            \"role\": \"assistant\"\n",
    "            },\n",
    "        ]\n",
    "    }\n",
    "    return messages[\"messages\"]"
   ]
  },
  {
   "cell_type": "code",
   "execution_count": 194,
   "metadata": {},
   "outputs": [
    {
     "name": "stdout",
     "output_type": "stream",
     "text": [
      "ppppppppp [\"Sunseeker Manhattan 68\", \"68 feet\", \"2022\", \"$3,200,000\", \"Marina del Rey, California\", \"Coastal cruising, with occasional trips to Mexico\", \"John Smith\", \"(310) 555-1234\", \"10 years of boating experience, including 5 years with vessels over 50 feet\", \"No accidents or insurance claims in the past\", None, None, None]\n"
     ]
    }
   ],
   "source": [
    "prompt = generate_prompt(customer_email)\n",
    "email_dic = generate_answer(model_llm,prompt)\n",
    "print('ppppppppp',email_dic)\n",
    "# email_dic = ast.literal_eval(email_dic)\n",
    "\n",
    "link = search_web(email_dic, tavily_client)\n",
    "prompt_fill_na = generate_search_prompt(email_dic,link)\n",
    "response = generate_answer(model_llm,prompt_fill_na)\n",
    "response_dic = json.loads(response)\n",
    "response_list = response_dic.values()\n"
   ]
  },
  {
   "cell_type": "code",
   "execution_count": 195,
   "metadata": {},
   "outputs": [
    {
     "data": {
      "text/plain": [
       "dict_values(['Sunseeker Manhattan 68', '68 feet', '2022', '$3,200,000', 'Marina del Rey, California', 'Coastal cruising, with occasional trips to Mexico', 'John Smith', '(310) 555-1234', '10 years of boating experience, including 5 years with vessels over 50 feet', 'No accidents or insurance claims in the past', '', '', ''])"
      ]
     },
     "execution_count": 195,
     "metadata": {},
     "output_type": "execute_result"
    }
   ],
   "source": [
    "response_list"
   ]
  },
  {
   "cell_type": "code",
   "execution_count": 157,
   "metadata": {},
   "outputs": [],
   "source": [
    "email_dic = email_dic.replace('\\n', '').replace('python', '').replace('```', '')"
   ]
  },
  {
   "cell_type": "code",
   "execution_count": 159,
   "metadata": {},
   "outputs": [
    {
     "ename": "JSONDecodeError",
     "evalue": "Expecting value: line 1 column 599 (char 598)",
     "output_type": "error",
     "traceback": [
      "\u001b[0;31m---------------------------------------------------------------------------\u001b[0m",
      "\u001b[0;31mJSONDecodeError\u001b[0m                           Traceback (most recent call last)",
      "Cell \u001b[0;32mIn[159], line 1\u001b[0m\n\u001b[0;32m----> 1\u001b[0m \u001b[43mresponse_format_dic\u001b[49m\u001b[43m(\u001b[49m\u001b[38;5;28;43mstr\u001b[39;49m\u001b[43m(\u001b[49m\u001b[43memail_dic\u001b[49m\u001b[43m)\u001b[49m\u001b[43m)\u001b[49m\n",
      "Cell \u001b[0;32mIn[151], line 3\u001b[0m, in \u001b[0;36mresponse_format_dic\u001b[0;34m(response)\u001b[0m\n\u001b[1;32m      1\u001b[0m \u001b[38;5;28;01mdef\u001b[39;00m \u001b[38;5;21mresponse_format_dic\u001b[39m(response):\n\u001b[1;32m      2\u001b[0m     response_dic \u001b[38;5;241m=\u001b[39m response\u001b[38;5;241m.\u001b[39mreplace(\u001b[38;5;124m'\u001b[39m\u001b[38;5;130;01m\\n\u001b[39;00m\u001b[38;5;124m'\u001b[39m, \u001b[38;5;124m'\u001b[39m\u001b[38;5;124m'\u001b[39m)\u001b[38;5;241m.\u001b[39mreplace(\u001b[38;5;124m'\u001b[39m\u001b[38;5;124mpython\u001b[39m\u001b[38;5;124m'\u001b[39m, \u001b[38;5;124m'\u001b[39m\u001b[38;5;124m'\u001b[39m)\u001b[38;5;241m.\u001b[39mreplace(\u001b[38;5;124m'\u001b[39m\u001b[38;5;124m```\u001b[39m\u001b[38;5;124m'\u001b[39m, \u001b[38;5;124m'\u001b[39m\u001b[38;5;124m'\u001b[39m)\n\u001b[0;32m----> 3\u001b[0m     data \u001b[38;5;241m=\u001b[39m \u001b[43mjson\u001b[49m\u001b[38;5;241;43m.\u001b[39;49m\u001b[43mloads\u001b[49m\u001b[43m(\u001b[49m\u001b[43mresponse_dic\u001b[49m\u001b[43m)\u001b[49m\n\u001b[1;32m      4\u001b[0m     \u001b[38;5;28;01mreturn\u001b[39;00m data\n",
      "File \u001b[0;32m/Library/Frameworks/Python.framework/Versions/3.9/lib/python3.9/json/__init__.py:346\u001b[0m, in \u001b[0;36mloads\u001b[0;34m(s, cls, object_hook, parse_float, parse_int, parse_constant, object_pairs_hook, **kw)\u001b[0m\n\u001b[1;32m    341\u001b[0m     s \u001b[38;5;241m=\u001b[39m s\u001b[38;5;241m.\u001b[39mdecode(detect_encoding(s), \u001b[38;5;124m'\u001b[39m\u001b[38;5;124msurrogatepass\u001b[39m\u001b[38;5;124m'\u001b[39m)\n\u001b[1;32m    343\u001b[0m \u001b[38;5;28;01mif\u001b[39;00m (\u001b[38;5;28mcls\u001b[39m \u001b[38;5;129;01mis\u001b[39;00m \u001b[38;5;28;01mNone\u001b[39;00m \u001b[38;5;129;01mand\u001b[39;00m object_hook \u001b[38;5;129;01mis\u001b[39;00m \u001b[38;5;28;01mNone\u001b[39;00m \u001b[38;5;129;01mand\u001b[39;00m\n\u001b[1;32m    344\u001b[0m         parse_int \u001b[38;5;129;01mis\u001b[39;00m \u001b[38;5;28;01mNone\u001b[39;00m \u001b[38;5;129;01mand\u001b[39;00m parse_float \u001b[38;5;129;01mis\u001b[39;00m \u001b[38;5;28;01mNone\u001b[39;00m \u001b[38;5;129;01mand\u001b[39;00m\n\u001b[1;32m    345\u001b[0m         parse_constant \u001b[38;5;129;01mis\u001b[39;00m \u001b[38;5;28;01mNone\u001b[39;00m \u001b[38;5;129;01mand\u001b[39;00m object_pairs_hook \u001b[38;5;129;01mis\u001b[39;00m \u001b[38;5;28;01mNone\u001b[39;00m \u001b[38;5;129;01mand\u001b[39;00m \u001b[38;5;129;01mnot\u001b[39;00m kw):\n\u001b[0;32m--> 346\u001b[0m     \u001b[38;5;28;01mreturn\u001b[39;00m \u001b[43m_default_decoder\u001b[49m\u001b[38;5;241;43m.\u001b[39;49m\u001b[43mdecode\u001b[49m\u001b[43m(\u001b[49m\u001b[43ms\u001b[49m\u001b[43m)\u001b[49m\n\u001b[1;32m    347\u001b[0m \u001b[38;5;28;01mif\u001b[39;00m \u001b[38;5;28mcls\u001b[39m \u001b[38;5;129;01mis\u001b[39;00m \u001b[38;5;28;01mNone\u001b[39;00m:\n\u001b[1;32m    348\u001b[0m     \u001b[38;5;28mcls\u001b[39m \u001b[38;5;241m=\u001b[39m JSONDecoder\n",
      "File \u001b[0;32m/Library/Frameworks/Python.framework/Versions/3.9/lib/python3.9/json/decoder.py:337\u001b[0m, in \u001b[0;36mJSONDecoder.decode\u001b[0;34m(self, s, _w)\u001b[0m\n\u001b[1;32m    332\u001b[0m \u001b[38;5;28;01mdef\u001b[39;00m \u001b[38;5;21mdecode\u001b[39m(\u001b[38;5;28mself\u001b[39m, s, _w\u001b[38;5;241m=\u001b[39mWHITESPACE\u001b[38;5;241m.\u001b[39mmatch):\n\u001b[1;32m    333\u001b[0m \u001b[38;5;250m    \u001b[39m\u001b[38;5;124;03m\"\"\"Return the Python representation of ``s`` (a ``str`` instance\u001b[39;00m\n\u001b[1;32m    334\u001b[0m \u001b[38;5;124;03m    containing a JSON document).\u001b[39;00m\n\u001b[1;32m    335\u001b[0m \n\u001b[1;32m    336\u001b[0m \u001b[38;5;124;03m    \"\"\"\u001b[39;00m\n\u001b[0;32m--> 337\u001b[0m     obj, end \u001b[38;5;241m=\u001b[39m \u001b[38;5;28;43mself\u001b[39;49m\u001b[38;5;241;43m.\u001b[39;49m\u001b[43mraw_decode\u001b[49m\u001b[43m(\u001b[49m\u001b[43ms\u001b[49m\u001b[43m,\u001b[49m\u001b[43m \u001b[49m\u001b[43midx\u001b[49m\u001b[38;5;241;43m=\u001b[39;49m\u001b[43m_w\u001b[49m\u001b[43m(\u001b[49m\u001b[43ms\u001b[49m\u001b[43m,\u001b[49m\u001b[43m \u001b[49m\u001b[38;5;241;43m0\u001b[39;49m\u001b[43m)\u001b[49m\u001b[38;5;241;43m.\u001b[39;49m\u001b[43mend\u001b[49m\u001b[43m(\u001b[49m\u001b[43m)\u001b[49m\u001b[43m)\u001b[49m\n\u001b[1;32m    338\u001b[0m     end \u001b[38;5;241m=\u001b[39m _w(s, end)\u001b[38;5;241m.\u001b[39mend()\n\u001b[1;32m    339\u001b[0m     \u001b[38;5;28;01mif\u001b[39;00m end \u001b[38;5;241m!=\u001b[39m \u001b[38;5;28mlen\u001b[39m(s):\n",
      "File \u001b[0;32m/Library/Frameworks/Python.framework/Versions/3.9/lib/python3.9/json/decoder.py:355\u001b[0m, in \u001b[0;36mJSONDecoder.raw_decode\u001b[0;34m(self, s, idx)\u001b[0m\n\u001b[1;32m    353\u001b[0m     obj, end \u001b[38;5;241m=\u001b[39m \u001b[38;5;28mself\u001b[39m\u001b[38;5;241m.\u001b[39mscan_once(s, idx)\n\u001b[1;32m    354\u001b[0m \u001b[38;5;28;01mexcept\u001b[39;00m \u001b[38;5;167;01mStopIteration\u001b[39;00m \u001b[38;5;28;01mas\u001b[39;00m err:\n\u001b[0;32m--> 355\u001b[0m     \u001b[38;5;28;01mraise\u001b[39;00m JSONDecodeError(\u001b[38;5;124m\"\u001b[39m\u001b[38;5;124mExpecting value\u001b[39m\u001b[38;5;124m\"\u001b[39m, s, err\u001b[38;5;241m.\u001b[39mvalue) \u001b[38;5;28;01mfrom\u001b[39;00m \u001b[38;5;28;01mNone\u001b[39;00m\n\u001b[1;32m    356\u001b[0m \u001b[38;5;28;01mreturn\u001b[39;00m obj, end\n",
      "\u001b[0;31mJSONDecodeError\u001b[0m: Expecting value: line 1 column 599 (char 598)"
     ]
    }
   ],
   "source": [
    "response_format_dic(str(email_dic))"
   ]
  },
  {
   "cell_type": "code",
   "execution_count": 202,
   "metadata": {},
   "outputs": [],
   "source": [
    "import json\n",
    "import ast\n",
    "\n",
    "entities = [\"Yacht Model\", \"Yacht Length\", \"Year of Manufacture\", \"Current Value/Purchase Price\", \"Current Location\", \"Intended Cruising Area\", \"Owner's Name\", \"Owner's Contact Information\", \"Owner's Boating Experience\", \"Previous Insurance Claims\", \"Additional Equipment\", \"Current Insurance Coverage\", \"Other\"]\n",
    "\n",
    "# instruction_json = \"\"\"You are a helpful, respectful assistant. You will receive an INSURANCE REQUEST EMAIL in the speficied subject and its content. From the email, please extract the following entity in to jason format provided below\n",
    "# [{\"Yacht Model\": \"\"},{\"Yacht Length\": \"\"},{\"Year of Manufacture\":\"\"}{\"Current Value/Purchase Price\":\"\"},{\"Current Location\":\"\"},{\"Intended Cruising Area\":\"\"},{\"Owner's Name\":\"\"},{\"Owner's Contact Information\":\"\"},{\"Owner's Boating Experience\":\"\"},{\"Previous Insurance Claims\":\"\"},{\"Additional Equipment\":\"\"},{\"Current Insurance Coverage\":\"\"},{\"Other\":\"\"}]\"\"\"\n",
    "\n",
    "instruction_dataframe = f\"\"\"You are a helpful, respectful assistant. You will receive an INSURANCE REQUEST EMAIL in the specified subject and its content. From the email, please extract the following entities into a list with the order specified below:\n",
    "[\"Yacht Model\", \"Yacht Length\", \"Year of Manufacture\", \"Current Value/Purchase Price\", \"Current Location\", \"Intended Cruising Area\", \"Owner's Name\", \"Owner's Contact Information\", \"Owner's Boating Experience\", \"Previous Insurance Claims\", \"Additional Equipment\", \"Current Insurance Coverage\", \"Other\"]\n",
    "If the information is not provide for the specific entities, that element of the list should be None. Return only in the string of list format that can be directly transfer into python list.\n",
    "\"\"\"\n",
    "\n",
    "# instruction_dic = \"\"\"You are a helpful, respectful assistant. You will receive an INSURANCE REQUEST EMAIL in the speficied subject and its content. From the email, please extract the following entity in to python dictionary format provided below\n",
    "# {\"Yacht Model\": \"\",\"Yacht Length\": \"\",\"Year of Manufacture\": \"\",\"Current Value/Purchase Price\": \"\",\"Current Location\": \"\",\"Intended Cruising Area\": \"\",\"Owner's Name\": \"\",\"Owner's Contact Information\": \"\",\"Owner's Boating Experience\": \"\",\"Previous Insurance Claims\": \",\"Additional Equipment\": \"\",\"Current Insurance Coverage\": \"\",\"Other\": \"\"}\n",
    "# Answer in Dictionary format only. Do not provide any further explanation. If the information is not provide for the specific entities, that value of the key should be None.\n",
    "# \"\"\"\n",
    "\n",
    "def generate_prompt(email):\n",
    "    messages = {\n",
    "        \"messages\": [\n",
    "            {\n",
    "            \"content\": instruction_dataframe,\n",
    "            \"role\": \"system\"\n",
    "            },\n",
    "            {\n",
    "            \"content\": f\"\"\"INSURANCE REQUEST EMAIL: {email}\"\"\",\n",
    "            \"role\": \"user\"\n",
    "            },\n",
    "            {\n",
    "            \"content\": \"{\",\n",
    "            \"role\": \"assistant\"\n",
    "            },\n",
    "        ]\n",
    "    }\n",
    "    return messages[\"messages\"]\n",
    "\n",
    "# def response_format_json(response):\n",
    "#     response_json = response.replace('\\n', '').replace('json', '').replace('```', '').replace('', '')\n",
    "#     data = json.loads(response_json)\n",
    "#     return data\n",
    "\n",
    "# def response_format_dic(response):\n",
    "#     response_json = response.replace('\\n', '').replace('python', '').replace('```', '').replace('', '')\n",
    "#     data = json.loads(response_json)\n",
    "#     return data\n",
    "\n",
    "# def response_format_df(response):\n",
    "#     response_list = ast.literal_eval(response)\n",
    "#     return response_list\n",
    "\n",
    "def search_web(email_dic, tavily_client):\n",
    "    yatch_model = email_dic[0]\n",
    "    message = f'Search for {entities[:3]} of the {yatch_model}'\n",
    "    response = tavily_client.search(message)\n",
    "    return [response['results'][0]['url'], response['results'][1]['url'], response['results'][2]['url']]\n",
    "\n",
    "\n",
    "instruction_search_dic = \"\"\"given you a list of 3 internet link resources that contain the missing information for the given Yatch Model PYTHON DICTIONARY.\n",
    "Please search through the links to find the information for the missing value (None) in the given PYTHON DICTIONARY. If all the informtion is found in the first link, there is no need to look in to the second or third link. If not, continue the search on the second link, and so on. \n",
    "Replace the None value in PYTHON DICTIONARY with new information and return only the Python Dictionary format below: \n",
    "{\"Yacht Model\": \"\",\"Yacht Length\": \"\",\"Year of Manufacture\": \"\",\"Current Value/Purchase Price\": \"\",\"Current Location\": \"\",\"Intended Cruising Area\": \"\",\"Owner's Name\": \"\",\"Owner's Contact Information\": \"\",\"Owner's Boating Experience\": \"\",\"Previous Insurance Claims\": \",\"Additional Equipment\": \"\",\"Current Insurance Coverage\": \"\",\"Other\": \"\"}\n",
    "If you are unable to locate the missing information, simply return the Python dictionary with the values unchanged. Do not provide any further explanation\n",
    "\"\"\"\n",
    "\n",
    "instruction_search_df = \"\"\"You will be given a RESOURCE LINK and a PYTHON YATCH LIST. \n",
    "PYTHON YATCH LIST is a list of Yatch information in a list containing the following information respectively:\n",
    "[\"Yacht Model\", \"Yacht Length\", \"Year of Manufacture\", \"Current Value/Purchase Price\", \"Current Location\", \"Intended Cruising Area\", \"Owner's Name\", \"Owner's Contact Information\", \"Owner's Boating Experience\", \"Previous Insurance Claims\", \"Additional Equipment\", \"Current Insurance Coverage\", \"Other\"]\n",
    "RESOURCE LINK is a list of 3 internet links that contain the missing information for the given PYTHON YATCH LIST.\n",
    "\n",
    "Please search through the links to find the information for the missing value (None) in the given PYTHON YATCH LIST. If all the informtion is found in the first link, there is no need to look in to the second or third link. If not, continue the search on the second link, and so on. \n",
    "Replace the None value in PYTHON YATCH LIST with new information and return only the Python List format. If you are unable to locate the missing information, simply return the Python list with the values unchanged. Do not provide any further explanation\n",
    "Return result only in list format that can be directly transfer into python list.\n",
    "\"\"\"\n",
    "\n",
    "def generate_search_prompt(email_dic,link):\n",
    "    messages = {\n",
    "        \"messages\": [\n",
    "            {\n",
    "            \"content\": f\"\"\"{instruction_search_df}\"\"\",\n",
    "            \"role\": \"system\"\n",
    "            },\n",
    "            {\n",
    "            \"content\": f\"\"\"PYTHON DICTIONARY: {email_dic}\n",
    "RESOURCE LINK: {link}\"\"\",\n",
    "            \"role\": \"user\"\n",
    "            },\n",
    "            {\n",
    "            \"content\": \"\",\n",
    "            \"role\": \"assistant\"\n",
    "            },\n",
    "        ]\n",
    "    }\n",
    "    return messages[\"messages\"]"
   ]
  },
  {
   "cell_type": "code",
   "execution_count": 203,
   "metadata": {},
   "outputs": [],
   "source": [
    "customer_email = {\n",
    "  \"Yacht Model\": \"Sunseeker Manhattan 68\",\n",
    "  \"Yacht Length\": \"68 feet\",\n",
    "  \"Year of Manufacture\": None,\n",
    "  \"Current Value/Purchase Price\": None,\n",
    "  \"Current Location\": \"Marina del Rey, California\",\n",
    "  \"Intended Cruising Area\": \"Coastal cruising, with occasional trips to Mexico\",\n",
    "  \"Owner's Name\": \"John Smith\",\n",
    "  \"Owner's Contact Information\": \"(310) 555-1234\",\n",
    "  \"Owner's Boating Experience\": \"10 years, including 5 years with vessels over 50 feet\",\n",
    "  \"Previous Insurance Claims\": \"No accidents or insurance claims in the past\",\n",
    "  \"Additional Equipment\": None,\n",
    "  \"Current Insurance Coverage\": None,\n",
    "  \"Other\": \"Interested in options for liability coverage\"\n",
    "}"
   ]
  },
  {
   "cell_type": "code",
   "execution_count": 204,
   "metadata": {},
   "outputs": [
    {
     "name": "stdout",
     "output_type": "stream",
     "text": [
      "ppppppppp [\"Sunseeker Manhattan 68\", \"68 feet\", None, None, \"Marina del Rey, California\", \"Coastal cruising, with occasional trips to Mexico\", \"John Smith\", \"(310) 555-1234\", \"10 years, including 5 years with vessels over 50 feet\", \"No accidents or insurance claims in the past\", None, None, \"Interested in options for liability coverage\"]\n",
      "response [\"Sunseeker Manhattan 68\", \"68 feet\", \"2021\", \"$3.5 million\", \"Marina del Rey, California\", \"Coastal cruising, with occasional trips to Mexico\", \"John Smith\", \"(310) 555-1234\", \"10 years, including 5 years with vessels over 50 feet\", \"No accidents or insurance claims in the past\", \"GPS, Autopilot, Solar Panels\", \"Full coverage with a deductible of $10,000\", \"Interested in options for liability coverage\"]\n"
     ]
    }
   ],
   "source": [
    "prompt = generate_prompt(customer_email)\n",
    "email_dic = generate_answer(model_llm,prompt)\n",
    "print('ppppppppp',email_dic)\n",
    "# email_dic = ast.literal_eval(email_dic)\n",
    "\n",
    "link = search_web(email_dic, tavily_client)\n",
    "prompt_fill_na = generate_search_prompt(email_dic,link)\n",
    "response = generate_answer(model_llm,prompt_fill_na)\n",
    "print('response', response)\n",
    "# response_dic = json.loads(response)\n",
    "# response_list = response_dic.values()"
   ]
  },
  {
   "cell_type": "code",
   "execution_count": 201,
   "metadata": {},
   "outputs": [
    {
     "data": {
      "text/plain": [
       "str"
      ]
     },
     "execution_count": 201,
     "metadata": {},
     "output_type": "execute_result"
    }
   ],
   "source": [
    "type(response)"
   ]
  }
 ],
 "metadata": {
  "kernelspec": {
   "display_name": "venv-inq",
   "language": "python",
   "name": "python3"
  },
  "language_info": {
   "codemirror_mode": {
    "name": "ipython",
    "version": 3
   },
   "file_extension": ".py",
   "mimetype": "text/x-python",
   "name": "python",
   "nbconvert_exporter": "python",
   "pygments_lexer": "ipython3",
   "version": "3.9.0"
  }
 },
 "nbformat": 4,
 "nbformat_minor": 2
}
