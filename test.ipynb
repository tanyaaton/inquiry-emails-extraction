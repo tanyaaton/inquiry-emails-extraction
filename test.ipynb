{
 "cells": [
  {
   "cell_type": "code",
   "execution_count": 27,
   "metadata": {},
   "outputs": [],
   "source": [
    "import logging\n",
    "import datetime\n",
    "import os\n",
    "import json\n",
    "from dotenv import load_dotenv\n",
    "\n",
    "#for UI\n",
    "import streamlit as st\n",
    "\n",
    "# for function\n",
    "from function import (connect_openai_llm, generate_answer, display_hits_dataframe)\n",
    "# from prompt import generate_pdf_prompt"
   ]
  },
  {
   "cell_type": "code",
   "execution_count": 28,
   "metadata": {},
   "outputs": [],
   "source": [
    "load_dotenv()\n",
    "OPENAI_API_KEY=  os.getenv(\"OPENAI_API_KEY\")\n"
   ]
  },
  {
   "cell_type": "code",
   "execution_count": 40,
   "metadata": {},
   "outputs": [],
   "source": [
    "instruction = \"\"\"You are a helpful, respectful assistant. You will receive an INSURANCE REQUEST EMAIL in the speficied subject and its content. From the email, please extract the following entity in to jason format provided below\n",
    "[{\"Yacht Model\": \"\"},{\"Yacht Length\": \"\"},{\"Year of Manufacture\":\"\"}{\"Current Value/Purchase Price\":\"\"},{\"Current Location\":\"\"},{\"Intended Cruising Area\":\"\"},{\"Owner's Name\":\"\"},{\"Owner's Contact Information\":\"\"},{\"Owner's Boating Experience\":\"\"},{\"Previous Insurance Claims\":\"\"},{\"Additional Equipment\":\"\"},{\"Current Insurance Coverage\":\"\"},{\"Other\":\"\"}]\"\"\"\n",
    "\n",
    "# instruction = \"\"\"You are a helpful, respectful assistant. You will receive an INSURANCE REQUEST EMAIL in the speficied subject and its content. From the email, please extract the following entity in to python dictionary format provided below\n",
    "# {\"Yacht Model\": \"Sunseeker Manhattan 68\",\"Yacht Length\": \"68 feet\",\"Year of Manufacture\": \"2022\",\"Current Value/Purchase Price\": \"$3,200,000\",\"Current Location\": \"Marina del Rey, California\",\"Intended Cruising Area\": \"Coastal cruising, occasional trips to Mexico\",\"Owner's Name\": \"John Smith\",\"Owner's Contact Information\": \"(310) 555-1234\",\"Owner's Boating Experience\": \"10 years, including 5 years with vessels over 50 feet\",\"Previous Insurance Claims\": \"None\",\"Additional Equipment\": \"Max speed: 32 knots, Sleeping capacity: 8 people\",\"Current Insurance Coverage\": \"Looking for comprehensive insurance coverage\",\"Other\": \"Interested in options for liability coverage\"}\"\"\""
   ]
  },
  {
   "cell_type": "code",
   "execution_count": 30,
   "metadata": {},
   "outputs": [],
   "source": [
    "def generate_prompt(email):\n",
    "    messages = {\n",
    "        \"messages\": [\n",
    "            {\n",
    "            \"content\": instruction,\n",
    "            \"role\": \"system\"\n",
    "            },\n",
    "            {\n",
    "            \"content\": f\"\"\"INSURANCE REQUEST EMAIL: {email}\"\"\",\n",
    "            \"role\": \"user\"\n",
    "            },\n",
    "            {\n",
    "            \"content\": \"\",\n",
    "            \"role\": \"assistant\"\n",
    "            },\n",
    "        ]\n",
    "    }\n",
    "    return messages[\"messages\"]"
   ]
  },
  {
   "cell_type": "code",
   "execution_count": 31,
   "metadata": {},
   "outputs": [],
   "source": [
    "customer_email= \"\"\"Subject: Insurance Quote for My New Sunseeker\n",
    "\n",
    "To whom it may concern,\n",
    "\n",
    "I recently purchased a Sunseeker Manhattan 68 yacht and I'm looking for comprehensive insurance coverage. The yacht is 68 feet long and was built in 2022. It's currently docked at Marina del Rey in California.\n",
    "\n",
    "Some additional details:\n",
    "\n",
    "- Purchase price: $3,200,000\n",
    "- Max speed: 32 knots\n",
    "- Sleeping capacity: 8 people\n",
    "- Planning to use it mainly for coastal cruising, with occasional trips to Mexico\n",
    "\n",
    "I have 10 years of boating experience, including 5 years with vessels over 50 feet. No accidents or insurance claims in the past.\n",
    "\n",
    "Could you please provide me with a quote for full coverage? I'm particularly interested in options for liability coverage.\n",
    "\n",
    "Thank you,\n",
    "John Smith\n",
    "Phone: (310) 555-1234\"\"\""
   ]
  },
  {
   "cell_type": "code",
   "execution_count": 32,
   "metadata": {},
   "outputs": [],
   "source": [
    "model_id_llm='gpt-4o'\n",
    "model_id_emb=\"text-embedding-3-large\"\n",
    "model_llm = connect_openai_llm()"
   ]
  },
  {
   "cell_type": "code",
   "execution_count": 48,
   "metadata": {},
   "outputs": [
    {
     "name": "stdout",
     "output_type": "stream",
     "text": [
      "[{'content': 'You are a helpful, respectful assistant. You will receive an INSURANCE REQUEST EMAIL in the speficied subject and its content. From the email, please extract the following entity in to jason format provided below\\n[{\"Yacht Model\": \"\"},{\"Yacht Length\": \"\"},{\"Year of Manufacture\":\"\"}{\"Current Value/Purchase Price\":\"\"},{\"Current Location\":\"\"},{\"Intended Cruising Area\":\"\"},{\"Owner\\'s Name\":\"\"},{\"Owner\\'s Contact Information\":\"\"},{\"Owner\\'s Boating Experience\":\"\"},{\"Previous Insurance Claims\":\"\"},{\"Additional Equipment\":\"\"},{\"Current Insurance Coverage\":\"\"},{\"Other\":\"\"}]', 'role': 'system'}, {'content': \"INSURANCE REQUEST EMAIL: Subject: Insurance Quote for My New Sunseeker\\n\\nTo whom it may concern,\\n\\nI recently purchased a Sunseeker Manhattan 68 yacht and I'm looking for comprehensive insurance coverage. The yacht is 68 feet long and was built in 2022. It's currently docked at Marina del Rey in California.\\n\\nSome additional details:\\n\\n- Purchase price: $3,200,000\\n- Max speed: 32 knots\\n- Sleeping capacity: 8 people\\n- Planning to use it mainly for coastal cruising, with occasional trips to Mexico\\n\\nI have 10 years of boating experience, including 5 years with vessels over 50 feet. No accidents or insurance claims in the past.\\n\\nCould you please provide me with a quote for full coverage? I'm particularly interested in options for liability coverage.\\n\\nThank you,\\nJohn Smith\\nPhone: (310) 555-1234\", 'role': 'user'}, {'content': '', 'role': 'assistant'}]\n",
      "```json\n",
      "[\n",
      "  {\"Yacht Model\": \"Sunseeker Manhattan 68\"},\n",
      "  {\"Yacht Length\": \"68 feet\"},\n",
      "  {\"Year of Manufacture\":\"2022\"},\n",
      "  {\"Current Value/Purchase Price\":\"$3,200,000\"},\n",
      "  {\"Current Location\":\"Marina del Rey, California\"},\n",
      "  {\"Intended Cruising Area\":\"Coastal cruising, occasional trips to Mexico\"},\n",
      "  {\"Owner's Name\":\"John Smith\"},\n",
      "  {\"Owner's Contact Information\":\"Phone: (310) 555-1234\"},\n",
      "  {\"Owner's Boating Experience\":\"10 years of boating experience, including 5 years with vessels over 50 feet\"},\n",
      "  {\"Previous Insurance Claims\":\"No accidents or insurance claims in the past\"},\n",
      "  {\"Additional Equipment\":\"\"},\n",
      "  {\"Current Insurance Coverage\":\"\"},\n",
      "  {\"Other\":\"Max speed: 32 knots, Sleeping capacity: 8 people\"}\n",
      "]\n",
      "```\n"
     ]
    },
    {
     "data": {
      "text/plain": [
       "'```json\\n[\\n  {\"Yacht Model\": \"Sunseeker Manhattan 68\"},\\n  {\"Yacht Length\": \"68 feet\"},\\n  {\"Year of Manufacture\":\"2022\"},\\n  {\"Current Value/Purchase Price\":\"$3,200,000\"},\\n  {\"Current Location\":\"Marina del Rey, California\"},\\n  {\"Intended Cruising Area\":\"Coastal cruising, occasional trips to Mexico\"},\\n  {\"Owner\\'s Name\":\"John Smith\"},\\n  {\"Owner\\'s Contact Information\":\"Phone: (310) 555-1234\"},\\n  {\"Owner\\'s Boating Experience\":\"10 years of boating experience, including 5 years with vessels over 50 feet\"},\\n  {\"Previous Insurance Claims\":\"No accidents or insurance claims in the past\"},\\n  {\"Additional Equipment\":\"\"},\\n  {\"Current Insurance Coverage\":\"\"},\\n  {\"Other\":\"Max speed: 32 knots, Sleeping capacity: 8 people\"}\\n]\\n```'"
      ]
     },
     "execution_count": 48,
     "metadata": {},
     "output_type": "execute_result"
    }
   ],
   "source": [
    "prompt = generate_prompt(customer_email)\n",
    "print(prompt)\n",
    "response = generate_answer(model_llm,prompt)\n",
    "print(response)\n",
    "st.text_area(label=\"Model Response\", value=response, height=300)\n",
    "# display_hits_dataframe(hits)"
   ]
  },
  {
   "cell_type": "code",
   "execution_count": 39,
   "metadata": {},
   "outputs": [],
   "source": [
    "response_dic = response"
   ]
  },
  {
   "cell_type": "code",
   "execution_count": 50,
   "metadata": {},
   "outputs": [
    {
     "data": {
      "text/plain": [
       "'[  {\"Yacht Model\": \"Sunseeker Manhattan 68\"},  {\"Yacht Length\": \"68 feet\"},  {\"Year of Manufacture\":\"2022\"},  {\"Current Value/Purchase Price\":\"$3,200,000\"},  {\"Current Location\":\"Marina del Rey, California\"},  {\"Intended Cruising Area\":\"Coastal cruising, occasional trips to Mexico\"},  {\"Owner\\'s Name\":\"John Smith\"},  {\"Owner\\'s Contact Information\":\"Phone: (310) 555-1234\"},  {\"Owner\\'s Boating Experience\":\"10 years of boating experience, including 5 years with vessels over 50 feet\"},  {\"Previous Insurance Claims\":\"No accidents or insurance claims in the past\"},  {\"Additional Equipment\":\"\"},  {\"Current Insurance Coverage\":\"\"},  {\"Other\":\"Max speed: 32 knots, Sleeping capacity: 8 people\"}]'"
      ]
     },
     "execution_count": 50,
     "metadata": {},
     "output_type": "execute_result"
    }
   ],
   "source": [
    "response_json = response.replace('\\n', '').replace('json', '').replace('```', '').replace('', '')\n",
    "response_json"
   ]
  },
  {
   "cell_type": "code",
   "execution_count": 52,
   "metadata": {},
   "outputs": [
    {
     "data": {
      "text/plain": [
       "[{'Yacht Model': 'Sunseeker Manhattan 68'},\n",
       " {'Yacht Length': '68 feet'},\n",
       " {'Year of Manufacture': '2022'},\n",
       " {'Current Value/Purchase Price': '$3,200,000'},\n",
       " {'Current Location': 'Marina del Rey, California'},\n",
       " {'Intended Cruising Area': 'Coastal cruising, occasional trips to Mexico'},\n",
       " {\"Owner's Name\": 'John Smith'},\n",
       " {\"Owner's Contact Information\": 'Phone: (310) 555-1234'},\n",
       " {\"Owner's Boating Experience\": '10 years of boating experience, including 5 years with vessels over 50 feet'},\n",
       " {'Previous Insurance Claims': 'No accidents or insurance claims in the past'},\n",
       " {'Additional Equipment': ''},\n",
       " {'Current Insurance Coverage': ''},\n",
       " {'Other': 'Max speed: 32 knots, Sleeping capacity: 8 people'}]"
      ]
     },
     "execution_count": 52,
     "metadata": {},
     "output_type": "execute_result"
    }
   ],
   "source": [
    "data = json.loads(response_json)\n",
    "data"
   ]
  }
 ],
 "metadata": {
  "kernelspec": {
   "display_name": "venv-inq",
   "language": "python",
   "name": "python3"
  },
  "language_info": {
   "codemirror_mode": {
    "name": "ipython",
    "version": 3
   },
   "file_extension": ".py",
   "mimetype": "text/x-python",
   "name": "python",
   "nbconvert_exporter": "python",
   "pygments_lexer": "ipython3",
   "version": "3.9.0"
  }
 },
 "nbformat": 4,
 "nbformat_minor": 2
}
