{
 "cells": [
  {
   "cell_type": "code",
   "execution_count": 27,
   "metadata": {},
   "outputs": [],
   "source": [
    "import logging\n",
    "import datetime\n",
    "import os\n",
    "import json\n",
    "from dotenv import load_dotenv\n",
    "\n",
    "#for UI\n",
    "import streamlit as st\n",
    "\n",
    "# for function\n",
    "from function import (connect_openai_llm, generate_answer, display_hits_dataframe)\n",
    "# from prompt import generate_pdf_prompt"
   ]
  },
  {
   "cell_type": "code",
   "execution_count": 28,
   "metadata": {},
   "outputs": [],
   "source": [
    "load_dotenv()\n",
    "OPENAI_API_KEY=  os.getenv(\"OPENAI_API_KEY\")\n"
   ]
  },
  {
   "cell_type": "code",
   "execution_count": 59,
   "metadata": {},
   "outputs": [],
   "source": [
    "# json\n",
    "# instruction = \"\"\"You are a helpful, respectful assistant. You will receive an INSURANCE REQUEST EMAIL in the speficied subject and its content. From the email, please extract the following entity in to jason format provided below\n",
    "# [{\"Yacht Model\": \"\"},{\"Yacht Length\": \"\"},{\"Year of Manufacture\":\"\"}{\"Current Value/Purchase Price\":\"\"},{\"Current Location\":\"\"},{\"Intended Cruising Area\":\"\"},{\"Owner's Name\":\"\"},{\"Owner's Contact Information\":\"\"},{\"Owner's Boating Experience\":\"\"},{\"Previous Insurance Claims\":\"\"},{\"Additional Equipment\":\"\"},{\"Current Insurance Coverage\":\"\"},{\"Other\":\"\"}]\"\"\"\n",
    "\n",
    "# pandas dataframe\n",
    "instruction = \"\"\"You are a helpful, respectful assistant. You will receive an INSURANCE REQUEST EMAIL in the specified subject and its content. From the email, please extract the following entities into a list with the order specified below:\n",
    "[\"Yacht Model\", \"Yacht Length\", \"Year of Manufacture\", \"Current Value/Purchase Price\", \"Current Location\", \"Intended Cruising Area\", \"Owner's Name\", \"Owner's Contact Information\", \"Owner's Boating Experience\", \"Previous Insurance Claims\", \"Additional Equipment\", \"Current Insurance Coverage\", \"Other\"]\n",
    "\"\"\"\n",
    "\n",
    "# python dictionary\n",
    "# instruction = \"\"\"You are a helpful, respectful assistant. You will receive an INSURANCE REQUEST EMAIL in the speficied subject and its content. From the email, please extract the following entity in to python dictionary format provided below\n",
    "# {\"Yacht Model\": \"Sunseeker Manhattan 68\",\"Yacht Length\": \"68 feet\",\"Year of Manufacture\": \"2022\",\"Current Value/Purchase Price\": \"$3,200,000\",\"Current Location\": \"Marina del Rey, California\",\"Intended Cruising Area\": \"Coastal cruising, occasional trips to Mexico\",\"Owner's Name\": \"John Smith\",\"Owner's Contact Information\": \"(310) 555-1234\",\"Owner's Boating Experience\": \"10 years, including 5 years with vessels over 50 feet\",\"Previous Insurance Claims\": \"None\",\"Additional Equipment\": \"Max speed: 32 knots, Sleeping capacity: 8 people\",\"Current Insurance Coverage\": \"Looking for comprehensive insurance coverage\",\"Other\": \"Interested in options for liability coverage\"}\"\"\""
   ]
  },
  {
   "cell_type": "code",
   "execution_count": 54,
   "metadata": {},
   "outputs": [],
   "source": [
    "def generate_prompt(email):\n",
    "    messages = {\n",
    "        \"messages\": [\n",
    "            {\n",
    "            \"content\": instruction,\n",
    "            \"role\": \"system\"\n",
    "            },\n",
    "            {\n",
    "            \"content\": f\"\"\"INSURANCE REQUEST EMAIL: {email}\"\"\",\n",
    "            \"role\": \"user\"\n",
    "            },\n",
    "            {\n",
    "            \"content\": \"\",\n",
    "            \"role\": \"assistant\"\n",
    "            },\n",
    "        ]\n",
    "    }\n",
    "    return messages[\"messages\"]"
   ]
  },
  {
   "cell_type": "code",
   "execution_count": 31,
   "metadata": {},
   "outputs": [],
   "source": [
    "customer_email= \"\"\"Subject: Insurance Quote for My New Sunseeker\n",
    "\n",
    "To whom it may concern,\n",
    "\n",
    "I recently purchased a Sunseeker Manhattan 68 yacht and I'm looking for comprehensive insurance coverage. The yacht is 68 feet long and was built in 2022. It's currently docked at Marina del Rey in California.\n",
    "\n",
    "Some additional details:\n",
    "\n",
    "- Purchase price: $3,200,000\n",
    "- Max speed: 32 knots\n",
    "- Sleeping capacity: 8 people\n",
    "- Planning to use it mainly for coastal cruising, with occasional trips to Mexico\n",
    "\n",
    "I have 10 years of boating experience, including 5 years with vessels over 50 feet. No accidents or insurance claims in the past.\n",
    "\n",
    "Could you please provide me with a quote for full coverage? I'm particularly interested in options for liability coverage.\n",
    "\n",
    "Thank you,\n",
    "John Smith\n",
    "Phone: (310) 555-1234\"\"\""
   ]
  },
  {
   "cell_type": "code",
   "execution_count": 32,
   "metadata": {},
   "outputs": [],
   "source": [
    "model_id_llm='gpt-4o'\n",
    "model_id_emb=\"text-embedding-3-large\"\n",
    "model_llm = connect_openai_llm()"
   ]
  },
  {
   "cell_type": "code",
   "execution_count": 60,
   "metadata": {},
   "outputs": [
    {
     "name": "stdout",
     "output_type": "stream",
     "text": [
      "[{'content': 'You are a helpful, respectful assistant. You will receive an INSURANCE REQUEST EMAIL in the specified subject and its content. From the email, please extract the following entities into a list with the order specified below:\\n[\"Yacht Model\", \"Yacht Length\", \"Year of Manufacture\", \"Current Value/Purchase Price\", \"Current Location\", \"Intended Cruising Area\", \"Owner\\'s Name\", \"Owner\\'s Contact Information\", \"Owner\\'s Boating Experience\", \"Previous Insurance Claims\", \"Additional Equipment\", \"Current Insurance Coverage\", \"Other\"]\\n', 'role': 'system'}, {'content': \"INSURANCE REQUEST EMAIL: Subject: Insurance Quote for My New Sunseeker\\n\\nTo whom it may concern,\\n\\nI recently purchased a Sunseeker Manhattan 68 yacht and I'm looking for comprehensive insurance coverage. The yacht is 68 feet long and was built in 2022. It's currently docked at Marina del Rey in California.\\n\\nSome additional details:\\n\\n- Purchase price: $3,200,000\\n- Max speed: 32 knots\\n- Sleeping capacity: 8 people\\n- Planning to use it mainly for coastal cruising, with occasional trips to Mexico\\n\\nI have 10 years of boating experience, including 5 years with vessels over 50 feet. No accidents or insurance claims in the past.\\n\\nCould you please provide me with a quote for full coverage? I'm particularly interested in options for liability coverage.\\n\\nThank you,\\nJohn Smith\\nPhone: (310) 555-1234\", 'role': 'user'}, {'content': '', 'role': 'assistant'}]\n",
      "[\"Sunseeker Manhattan 68\", \"68 feet\", \"2022\", \"$3,200,000\", \"Marina del Rey, California\", \"Coastal cruising, with occasional trips to Mexico\", \"John Smith\", \"(310) 555-1234\", \"10 years of boating experience, including 5 years with vessels over 50 feet\", \"No accidents or insurance claims in the past\", \"Max speed: 32 knots, Sleeping capacity: 8 people\", \"Not specified\", \"Request for full coverage, interested in liability options\"]\n"
     ]
    },
    {
     "data": {
      "text/plain": [
       "'[\"Sunseeker Manhattan 68\", \"68 feet\", \"2022\", \"$3,200,000\", \"Marina del Rey, California\", \"Coastal cruising, with occasional trips to Mexico\", \"John Smith\", \"(310) 555-1234\", \"10 years of boating experience, including 5 years with vessels over 50 feet\", \"No accidents or insurance claims in the past\", \"Max speed: 32 knots, Sleeping capacity: 8 people\", \"Not specified\", \"Request for full coverage, interested in liability options\"]'"
      ]
     },
     "execution_count": 60,
     "metadata": {},
     "output_type": "execute_result"
    }
   ],
   "source": [
    "prompt = generate_prompt(customer_email)\n",
    "print(prompt)\n",
    "response = generate_answer(model_llm,prompt)\n",
    "print(response)\n",
    "st.text_area(label=\"Model Response\", value=response, height=300)\n",
    "# display_hits_dataframe(hits)"
   ]
  },
  {
   "cell_type": "code",
   "execution_count": 39,
   "metadata": {},
   "outputs": [],
   "source": [
    "response_dic = response"
   ]
  },
  {
   "cell_type": "code",
   "execution_count": 50,
   "metadata": {},
   "outputs": [
    {
     "data": {
      "text/plain": [
       "'[  {\"Yacht Model\": \"Sunseeker Manhattan 68\"},  {\"Yacht Length\": \"68 feet\"},  {\"Year of Manufacture\":\"2022\"},  {\"Current Value/Purchase Price\":\"$3,200,000\"},  {\"Current Location\":\"Marina del Rey, California\"},  {\"Intended Cruising Area\":\"Coastal cruising, occasional trips to Mexico\"},  {\"Owner\\'s Name\":\"John Smith\"},  {\"Owner\\'s Contact Information\":\"Phone: (310) 555-1234\"},  {\"Owner\\'s Boating Experience\":\"10 years of boating experience, including 5 years with vessels over 50 feet\"},  {\"Previous Insurance Claims\":\"No accidents or insurance claims in the past\"},  {\"Additional Equipment\":\"\"},  {\"Current Insurance Coverage\":\"\"},  {\"Other\":\"Max speed: 32 knots, Sleeping capacity: 8 people\"}]'"
      ]
     },
     "execution_count": 50,
     "metadata": {},
     "output_type": "execute_result"
    }
   ],
   "source": [
    "response_json = response.replace('\\n', '').replace('json', '').replace('```', '').replace('', '')\n",
    "response_json"
   ]
  },
  {
   "cell_type": "code",
   "execution_count": 52,
   "metadata": {},
   "outputs": [
    {
     "data": {
      "text/plain": [
       "[{'Yacht Model': 'Sunseeker Manhattan 68'},\n",
       " {'Yacht Length': '68 feet'},\n",
       " {'Year of Manufacture': '2022'},\n",
       " {'Current Value/Purchase Price': '$3,200,000'},\n",
       " {'Current Location': 'Marina del Rey, California'},\n",
       " {'Intended Cruising Area': 'Coastal cruising, occasional trips to Mexico'},\n",
       " {\"Owner's Name\": 'John Smith'},\n",
       " {\"Owner's Contact Information\": 'Phone: (310) 555-1234'},\n",
       " {\"Owner's Boating Experience\": '10 years of boating experience, including 5 years with vessels over 50 feet'},\n",
       " {'Previous Insurance Claims': 'No accidents or insurance claims in the past'},\n",
       " {'Additional Equipment': ''},\n",
       " {'Current Insurance Coverage': ''},\n",
       " {'Other': 'Max speed: 32 knots, Sleeping capacity: 8 people'}]"
      ]
     },
     "execution_count": 52,
     "metadata": {},
     "output_type": "execute_result"
    }
   ],
   "source": [
    "data = json.loads(response_json)\n",
    "data"
   ]
  },
  {
   "cell_type": "markdown",
   "metadata": {},
   "source": [
    "dataframe pd"
   ]
  },
  {
   "cell_type": "code",
   "execution_count": 56,
   "metadata": {},
   "outputs": [],
   "source": [
    "import pandas as pd"
   ]
  },
  {
   "cell_type": "code",
   "execution_count": 64,
   "metadata": {},
   "outputs": [
    {
     "data": {
      "text/html": [
       "<div>\n",
       "<style scoped>\n",
       "    .dataframe tbody tr th:only-of-type {\n",
       "        vertical-align: middle;\n",
       "    }\n",
       "\n",
       "    .dataframe tbody tr th {\n",
       "        vertical-align: top;\n",
       "    }\n",
       "\n",
       "    .dataframe thead th {\n",
       "        text-align: right;\n",
       "    }\n",
       "</style>\n",
       "<table border=\"1\" class=\"dataframe\">\n",
       "  <thead>\n",
       "    <tr style=\"text-align: right;\">\n",
       "      <th></th>\n",
       "    </tr>\n",
       "  </thead>\n",
       "  <tbody>\n",
       "    <tr>\n",
       "      <th>Yacht Model</th>\n",
       "    </tr>\n",
       "    <tr>\n",
       "      <th>Yacht Length</th>\n",
       "    </tr>\n",
       "    <tr>\n",
       "      <th>Year of Manufacture</th>\n",
       "    </tr>\n",
       "    <tr>\n",
       "      <th>Current Value/Purchase Price</th>\n",
       "    </tr>\n",
       "    <tr>\n",
       "      <th>Current Location</th>\n",
       "    </tr>\n",
       "    <tr>\n",
       "      <th>Intended Cruising Area</th>\n",
       "    </tr>\n",
       "    <tr>\n",
       "      <th>Owner's Name</th>\n",
       "    </tr>\n",
       "    <tr>\n",
       "      <th>Owner's Contact Information</th>\n",
       "    </tr>\n",
       "    <tr>\n",
       "      <th>Owner's Boating Experience</th>\n",
       "    </tr>\n",
       "    <tr>\n",
       "      <th>Previous Insurance Claims</th>\n",
       "    </tr>\n",
       "    <tr>\n",
       "      <th>Additional Equipment</th>\n",
       "    </tr>\n",
       "    <tr>\n",
       "      <th>Current Insurance Coverage</th>\n",
       "    </tr>\n",
       "    <tr>\n",
       "      <th>Other</th>\n",
       "    </tr>\n",
       "  </tbody>\n",
       "</table>\n",
       "</div>"
      ],
      "text/plain": [
       "Empty DataFrame\n",
       "Columns: []\n",
       "Index: [Yacht Model, Yacht Length, Year of Manufacture, Current Value/Purchase Price, Current Location, Intended Cruising Area, Owner's Name, Owner's Contact Information, Owner's Boating Experience, Previous Insurance Claims, Additional Equipment, Current Insurance Coverage, Other]"
      ]
     },
     "execution_count": 64,
     "metadata": {},
     "output_type": "execute_result"
    }
   ],
   "source": [
    "col = [\"Yacht Model\", \"Yacht Length\", \"Year of Manufacture\", \"Current Value/Purchase Price\", \"Current Location\", \"Intended Cruising Area\", \"Owner's Name\", \"Owner's Contact Information\", \"Owner's Boating Experience\", \"Previous Insurance Claims\", \"Additional Equipment\", \"Current Insurance Coverage\", \"Other\"]\n",
    "df = pd.DataFrame(index=col)\n",
    "df"
   ]
  },
  {
   "cell_type": "code",
   "execution_count": 63,
   "metadata": {},
   "outputs": [],
   "source": [
    "#str > list > Series > into df\n",
    "import ast\n",
    "response_list = ast.literal_eval(response)"
   ]
  },
  {
   "cell_type": "code",
   "execution_count": 65,
   "metadata": {},
   "outputs": [],
   "source": [
    "df['new']=response_list"
   ]
  },
  {
   "cell_type": "code",
   "execution_count": 66,
   "metadata": {},
   "outputs": [
    {
     "data": {
      "text/html": [
       "<div>\n",
       "<style scoped>\n",
       "    .dataframe tbody tr th:only-of-type {\n",
       "        vertical-align: middle;\n",
       "    }\n",
       "\n",
       "    .dataframe tbody tr th {\n",
       "        vertical-align: top;\n",
       "    }\n",
       "\n",
       "    .dataframe thead th {\n",
       "        text-align: right;\n",
       "    }\n",
       "</style>\n",
       "<table border=\"1\" class=\"dataframe\">\n",
       "  <thead>\n",
       "    <tr style=\"text-align: right;\">\n",
       "      <th></th>\n",
       "      <th>new</th>\n",
       "    </tr>\n",
       "  </thead>\n",
       "  <tbody>\n",
       "    <tr>\n",
       "      <th>Yacht Model</th>\n",
       "      <td>Sunseeker Manhattan 68</td>\n",
       "    </tr>\n",
       "    <tr>\n",
       "      <th>Yacht Length</th>\n",
       "      <td>68 feet</td>\n",
       "    </tr>\n",
       "    <tr>\n",
       "      <th>Year of Manufacture</th>\n",
       "      <td>2022</td>\n",
       "    </tr>\n",
       "    <tr>\n",
       "      <th>Current Value/Purchase Price</th>\n",
       "      <td>$3,200,000</td>\n",
       "    </tr>\n",
       "    <tr>\n",
       "      <th>Current Location</th>\n",
       "      <td>Marina del Rey, California</td>\n",
       "    </tr>\n",
       "    <tr>\n",
       "      <th>Intended Cruising Area</th>\n",
       "      <td>Coastal cruising, with occasional trips to Mexico</td>\n",
       "    </tr>\n",
       "    <tr>\n",
       "      <th>Owner's Name</th>\n",
       "      <td>John Smith</td>\n",
       "    </tr>\n",
       "    <tr>\n",
       "      <th>Owner's Contact Information</th>\n",
       "      <td>(310) 555-1234</td>\n",
       "    </tr>\n",
       "    <tr>\n",
       "      <th>Owner's Boating Experience</th>\n",
       "      <td>10 years of boating experience, including 5 ye...</td>\n",
       "    </tr>\n",
       "    <tr>\n",
       "      <th>Previous Insurance Claims</th>\n",
       "      <td>No accidents or insurance claims in the past</td>\n",
       "    </tr>\n",
       "    <tr>\n",
       "      <th>Additional Equipment</th>\n",
       "      <td>Max speed: 32 knots, Sleeping capacity: 8 people</td>\n",
       "    </tr>\n",
       "    <tr>\n",
       "      <th>Current Insurance Coverage</th>\n",
       "      <td>Not specified</td>\n",
       "    </tr>\n",
       "    <tr>\n",
       "      <th>Other</th>\n",
       "      <td>Request for full coverage, interested in liabi...</td>\n",
       "    </tr>\n",
       "  </tbody>\n",
       "</table>\n",
       "</div>"
      ],
      "text/plain": [
       "                                                                            new\n",
       "Yacht Model                                              Sunseeker Manhattan 68\n",
       "Yacht Length                                                            68 feet\n",
       "Year of Manufacture                                                        2022\n",
       "Current Value/Purchase Price                                         $3,200,000\n",
       "Current Location                                     Marina del Rey, California\n",
       "Intended Cruising Area        Coastal cruising, with occasional trips to Mexico\n",
       "Owner's Name                                                         John Smith\n",
       "Owner's Contact Information                                      (310) 555-1234\n",
       "Owner's Boating Experience    10 years of boating experience, including 5 ye...\n",
       "Previous Insurance Claims          No accidents or insurance claims in the past\n",
       "Additional Equipment           Max speed: 32 knots, Sleeping capacity: 8 people\n",
       "Current Insurance Coverage                                        Not specified\n",
       "Other                         Request for full coverage, interested in liabi..."
      ]
     },
     "execution_count": 66,
     "metadata": {},
     "output_type": "execute_result"
    }
   ],
   "source": [
    "df"
   ]
  },
  {
   "cell_type": "code",
   "execution_count": null,
   "metadata": {},
   "outputs": [],
   "source": []
  }
 ],
 "metadata": {
  "kernelspec": {
   "display_name": "venv-inq",
   "language": "python",
   "name": "python3"
  },
  "language_info": {
   "codemirror_mode": {
    "name": "ipython",
    "version": 3
   },
   "file_extension": ".py",
   "mimetype": "text/x-python",
   "name": "python",
   "nbconvert_exporter": "python",
   "pygments_lexer": "ipython3",
   "version": "3.9.0"
  }
 },
 "nbformat": 4,
 "nbformat_minor": 2
}
